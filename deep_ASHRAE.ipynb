{
  "nbformat": 4,
  "nbformat_minor": 0,
  "metadata": {
    "colab": {
      "name": "deep-ASHRAE.ipynb",
      "provenance": [],
      "collapsed_sections": [],
      "machine_shape": "hm"
    },
    "kernelspec": {
      "name": "python3",
      "display_name": "Python 3"
    },
    "accelerator": "GPU"
  },
  "cells": [
    {
      "cell_type": "markdown",
      "metadata": {
        "id": "cIEUVldPusop",
        "colab_type": "text"
      },
      "source": [
        "**Importing Data**\n"
      ]
    },
    {
      "cell_type": "code",
      "metadata": {
        "id": "UHpD_o2uxe5J",
        "colab_type": "code",
        "colab": {}
      },
      "source": [
        "import os\n",
        "import pandas as pd"
      ],
      "execution_count": 0,
      "outputs": []
    },
    {
      "cell_type": "code",
      "metadata": {
        "id": "1iyap69v1IX_",
        "colab_type": "code",
        "colab": {}
      },
      "source": [
        "import os\n",
        "os.environ['KAGGLE_USERNAME'] = \"mohamedkacem\" \n",
        "os.environ['KAGGLE_KEY'] = \"d5db5cb95c6cadfdf48d7a44c50a06f5\" "
      ],
      "execution_count": 0,
      "outputs": []
    },
    {
      "cell_type": "code",
      "metadata": {
        "id": "lR5PcU6f1Oby",
        "colab_type": "code",
        "outputId": "35d8e231-7fdc-4b2b-ca3b-8fe6386d5087",
        "colab": {
          "base_uri": "https://localhost:8080/",
          "height": 35
        }
      },
      "source": [
        "!pwd"
      ],
      "execution_count": 8,
      "outputs": [
        {
          "output_type": "stream",
          "text": [
            "/content\n"
          ],
          "name": "stdout"
        }
      ]
    },
    {
      "cell_type": "code",
      "metadata": {
        "id": "T9Bq8b1G_i1i",
        "colab_type": "code",
        "colab": {
          "base_uri": "https://localhost:8080/",
          "height": 379
        },
        "outputId": "512886c0-5000-4bff-a8eb-210b69cc04f7"
      },
      "source": [
        "!kaggle competitions download -c ashrae-energy-prediction\n"
      ],
      "execution_count": 9,
      "outputs": [
        {
          "output_type": "stream",
          "text": [
            "Warning: Looks like you're using an outdated API Version, please consider updating (server 1.5.6 / client 1.5.4)\n",
            "Downloading weather_train.csv.zip to /content\n",
            "  0% 0.00/1.27M [00:00<?, ?B/s]\n",
            "100% 1.27M/1.27M [00:00<00:00, 41.7MB/s]\n",
            "Downloading weather_test.csv.zip to /content\n",
            "  0% 0.00/2.53M [00:00<?, ?B/s]\n",
            "100% 2.53M/2.53M [00:00<00:00, 167MB/s]\n",
            "Downloading building_metadata.csv to /content\n",
            "  0% 0.00/44.5k [00:00<?, ?B/s]\n",
            "100% 44.5k/44.5k [00:00<00:00, 36.7MB/s]\n",
            "Downloading train.csv.zip to /content\n",
            " 94% 112M/120M [00:00<00:00, 115MB/s]  \n",
            "100% 120M/120M [00:00<00:00, 130MB/s]\n",
            "Downloading test.csv.zip to /content\n",
            " 92% 153M/167M [00:01<00:00, 70.6MB/s]\n",
            "100% 167M/167M [00:01<00:00, 98.8MB/s]\n",
            "Downloading sample_submission.csv.zip to /content\n",
            " 93% 82.0M/88.4M [00:00<00:00, 109MB/s]\n",
            "100% 88.4M/88.4M [00:00<00:00, 114MB/s]\n"
          ],
          "name": "stdout"
        }
      ]
    },
    {
      "cell_type": "code",
      "metadata": {
        "id": "VgpCpvHB_nCR",
        "colab_type": "code",
        "colab": {
          "base_uri": "https://localhost:8080/",
          "height": 161
        },
        "outputId": "85f5cf1b-c09a-4033-dcbe-bc5c1212f688"
      },
      "source": [
        "#unzip dataset\n",
        "\n",
        "!unzip  /content/test.csv.zip\n",
        "!unzip  /content/train.csv.zip\n",
        "!unzip  /content/weather_test.csv.zip\n",
        "!unzip  /content/weather_train.csv.zip\n"
      ],
      "execution_count": 10,
      "outputs": [
        {
          "output_type": "stream",
          "text": [
            "Archive:  /content/test.csv.zip\n",
            "  inflating: test.csv                \n",
            "Archive:  /content/train.csv.zip\n",
            "  inflating: train.csv               \n",
            "Archive:  /content/weather_test.csv.zip\n",
            "  inflating: weather_test.csv        \n",
            "Archive:  /content/weather_train.csv.zip\n",
            "  inflating: weather_train.csv       \n"
          ],
          "name": "stdout"
        }
      ]
    },
    {
      "cell_type": "code",
      "metadata": {
        "id": "ZomR97bzqRdV",
        "colab_type": "code",
        "colab": {
          "base_uri": "https://localhost:8080/",
          "height": 53
        },
        "outputId": "09bec9a2-bead-47fc-979e-4de27d9c8d8e"
      },
      "source": [
        "!unzip /content/sample_submission.csv.zip"
      ],
      "execution_count": 11,
      "outputs": [
        {
          "output_type": "stream",
          "text": [
            "Archive:  /content/sample_submission.csv.zip\n",
            "  inflating: sample_submission.csv   \n"
          ],
          "name": "stdout"
        }
      ]
    },
    {
      "cell_type": "code",
      "metadata": {
        "id": "3_QmKqN7nj3n",
        "colab_type": "code",
        "colab": {}
      },
      "source": [
        "train = pd.read_csv(\"/content/train.csv\",parse_dates=['timestamp'])\n",
        "test = pd.read_csv(\"/content/test.csv\",parse_dates=['timestamp'])\n",
        "# sample_sub = pd.read_csv(\"/content/sample_submission.csv\")\n",
        "weather_test = pd.read_csv(\"/content/weather_test.csv\",parse_dates=['timestamp'])\n",
        "weather_train = pd.read_csv(\"/content/weather_train.csv\",parse_dates=['timestamp'])\n",
        "building_metadata = pd.read_csv('/content/building_metadata.csv')"
      ],
      "execution_count": 0,
      "outputs": []
    },
    {
      "cell_type": "code",
      "metadata": {
        "id": "3sJJbLW95fsb",
        "colab_type": "code",
        "colab": {}
      },
      "source": [
        ""
      ],
      "execution_count": 0,
      "outputs": []
    },
    {
      "cell_type": "code",
      "metadata": {
        "id": "t6u7qxymCoW4",
        "colab_type": "code",
        "outputId": "8ebfd039-32cc-452c-e762-f293cf3c832f",
        "colab": {
          "base_uri": "https://localhost:8080/",
          "height": 143
        }
      },
      "source": [
        "building_metadata.isnull().sum()"
      ],
      "execution_count": 13,
      "outputs": [
        {
          "output_type": "execute_result",
          "data": {
            "text/plain": [
              "site_id           0\n",
              "building_id       0\n",
              "primary_use       0\n",
              "square_feet       0\n",
              "year_built      774\n",
              "floor_count    1094\n",
              "dtype: int64"
            ]
          },
          "metadata": {
            "tags": []
          },
          "execution_count": 13
        }
      ]
    },
    {
      "cell_type": "code",
      "metadata": {
        "id": "0cha7rP1DR18",
        "colab_type": "code",
        "outputId": "555f3da7-52aa-4e75-e0be-2c4c570aa365",
        "colab": {
          "base_uri": "https://localhost:8080/",
          "height": 297
        }
      },
      "source": [
        "building_metadata.describe()"
      ],
      "execution_count": 14,
      "outputs": [
        {
          "output_type": "execute_result",
          "data": {
            "text/html": [
              "<div>\n",
              "<style scoped>\n",
              "    .dataframe tbody tr th:only-of-type {\n",
              "        vertical-align: middle;\n",
              "    }\n",
              "\n",
              "    .dataframe tbody tr th {\n",
              "        vertical-align: top;\n",
              "    }\n",
              "\n",
              "    .dataframe thead th {\n",
              "        text-align: right;\n",
              "    }\n",
              "</style>\n",
              "<table border=\"1\" class=\"dataframe\">\n",
              "  <thead>\n",
              "    <tr style=\"text-align: right;\">\n",
              "      <th></th>\n",
              "      <th>site_id</th>\n",
              "      <th>building_id</th>\n",
              "      <th>square_feet</th>\n",
              "      <th>year_built</th>\n",
              "      <th>floor_count</th>\n",
              "    </tr>\n",
              "  </thead>\n",
              "  <tbody>\n",
              "    <tr>\n",
              "      <th>count</th>\n",
              "      <td>1449.000000</td>\n",
              "      <td>1449.000000</td>\n",
              "      <td>1449.000000</td>\n",
              "      <td>675.000000</td>\n",
              "      <td>355.000000</td>\n",
              "    </tr>\n",
              "    <tr>\n",
              "      <th>mean</th>\n",
              "      <td>6.952381</td>\n",
              "      <td>724.000000</td>\n",
              "      <td>92111.776398</td>\n",
              "      <td>1967.957037</td>\n",
              "      <td>3.740845</td>\n",
              "    </tr>\n",
              "    <tr>\n",
              "      <th>std</th>\n",
              "      <td>5.003432</td>\n",
              "      <td>418.434583</td>\n",
              "      <td>110769.950997</td>\n",
              "      <td>31.054030</td>\n",
              "      <td>3.333683</td>\n",
              "    </tr>\n",
              "    <tr>\n",
              "      <th>min</th>\n",
              "      <td>0.000000</td>\n",
              "      <td>0.000000</td>\n",
              "      <td>283.000000</td>\n",
              "      <td>1900.000000</td>\n",
              "      <td>1.000000</td>\n",
              "    </tr>\n",
              "    <tr>\n",
              "      <th>25%</th>\n",
              "      <td>3.000000</td>\n",
              "      <td>362.000000</td>\n",
              "      <td>23012.000000</td>\n",
              "      <td>1949.000000</td>\n",
              "      <td>1.000000</td>\n",
              "    </tr>\n",
              "    <tr>\n",
              "      <th>50%</th>\n",
              "      <td>5.000000</td>\n",
              "      <td>724.000000</td>\n",
              "      <td>57673.000000</td>\n",
              "      <td>1970.000000</td>\n",
              "      <td>3.000000</td>\n",
              "    </tr>\n",
              "    <tr>\n",
              "      <th>75%</th>\n",
              "      <td>13.000000</td>\n",
              "      <td>1086.000000</td>\n",
              "      <td>115676.000000</td>\n",
              "      <td>1995.000000</td>\n",
              "      <td>5.000000</td>\n",
              "    </tr>\n",
              "    <tr>\n",
              "      <th>max</th>\n",
              "      <td>15.000000</td>\n",
              "      <td>1448.000000</td>\n",
              "      <td>875000.000000</td>\n",
              "      <td>2017.000000</td>\n",
              "      <td>26.000000</td>\n",
              "    </tr>\n",
              "  </tbody>\n",
              "</table>\n",
              "</div>"
            ],
            "text/plain": [
              "           site_id  building_id    square_feet   year_built  floor_count\n",
              "count  1449.000000  1449.000000    1449.000000   675.000000   355.000000\n",
              "mean      6.952381   724.000000   92111.776398  1967.957037     3.740845\n",
              "std       5.003432   418.434583  110769.950997    31.054030     3.333683\n",
              "min       0.000000     0.000000     283.000000  1900.000000     1.000000\n",
              "25%       3.000000   362.000000   23012.000000  1949.000000     1.000000\n",
              "50%       5.000000   724.000000   57673.000000  1970.000000     3.000000\n",
              "75%      13.000000  1086.000000  115676.000000  1995.000000     5.000000\n",
              "max      15.000000  1448.000000  875000.000000  2017.000000    26.000000"
            ]
          },
          "metadata": {
            "tags": []
          },
          "execution_count": 14
        }
      ]
    },
    {
      "cell_type": "markdown",
      "metadata": {
        "id": "ICqrbGWVEO49",
        "colab_type": "text"
      },
      "source": [
        "filling the messing data in building_metadata"
      ]
    },
    {
      "cell_type": "code",
      "metadata": {
        "id": "0pENJQSgEWD4",
        "colab_type": "code",
        "colab": {}
      },
      "source": [
        "building_metadata['year_built'].fillna(1976, inplace=True)\n",
        "building_metadata['floor_count'].fillna(3.7, inplace=True)"
      ],
      "execution_count": 0,
      "outputs": []
    },
    {
      "cell_type": "markdown",
      "metadata": {
        "id": "uwZ8n5xlDItR",
        "colab_type": "text"
      },
      "source": [
        ""
      ]
    },
    {
      "cell_type": "code",
      "metadata": {
        "id": "eh7YVsoGHkCT",
        "colab_type": "code",
        "outputId": "a473ac98-0180-43af-9b92-6db170a2260a",
        "colab": {
          "base_uri": "https://localhost:8080/",
          "height": 143
        }
      },
      "source": [
        "building_metadata.isnull().sum()"
      ],
      "execution_count": 16,
      "outputs": [
        {
          "output_type": "execute_result",
          "data": {
            "text/plain": [
              "site_id        0\n",
              "building_id    0\n",
              "primary_use    0\n",
              "square_feet    0\n",
              "year_built     0\n",
              "floor_count    0\n",
              "dtype: int64"
            ]
          },
          "metadata": {
            "tags": []
          },
          "execution_count": 16
        }
      ]
    },
    {
      "cell_type": "code",
      "metadata": {
        "id": "jvq_3Briqdfe",
        "colab_type": "code",
        "outputId": "a41bdbf7-47cb-477e-98dc-f8c49671267e",
        "colab": {
          "base_uri": "https://localhost:8080/",
          "height": 309
        }
      },
      "source": [
        "weather_train.head()"
      ],
      "execution_count": 17,
      "outputs": [
        {
          "output_type": "execute_result",
          "data": {
            "text/html": [
              "<div>\n",
              "<style scoped>\n",
              "    .dataframe tbody tr th:only-of-type {\n",
              "        vertical-align: middle;\n",
              "    }\n",
              "\n",
              "    .dataframe tbody tr th {\n",
              "        vertical-align: top;\n",
              "    }\n",
              "\n",
              "    .dataframe thead th {\n",
              "        text-align: right;\n",
              "    }\n",
              "</style>\n",
              "<table border=\"1\" class=\"dataframe\">\n",
              "  <thead>\n",
              "    <tr style=\"text-align: right;\">\n",
              "      <th></th>\n",
              "      <th>site_id</th>\n",
              "      <th>timestamp</th>\n",
              "      <th>air_temperature</th>\n",
              "      <th>cloud_coverage</th>\n",
              "      <th>dew_temperature</th>\n",
              "      <th>precip_depth_1_hr</th>\n",
              "      <th>sea_level_pressure</th>\n",
              "      <th>wind_direction</th>\n",
              "      <th>wind_speed</th>\n",
              "    </tr>\n",
              "  </thead>\n",
              "  <tbody>\n",
              "    <tr>\n",
              "      <th>0</th>\n",
              "      <td>0</td>\n",
              "      <td>2016-01-01 00:00:00</td>\n",
              "      <td>25.0</td>\n",
              "      <td>6.0</td>\n",
              "      <td>20.0</td>\n",
              "      <td>NaN</td>\n",
              "      <td>1019.7</td>\n",
              "      <td>0.0</td>\n",
              "      <td>0.0</td>\n",
              "    </tr>\n",
              "    <tr>\n",
              "      <th>1</th>\n",
              "      <td>0</td>\n",
              "      <td>2016-01-01 01:00:00</td>\n",
              "      <td>24.4</td>\n",
              "      <td>NaN</td>\n",
              "      <td>21.1</td>\n",
              "      <td>-1.0</td>\n",
              "      <td>1020.2</td>\n",
              "      <td>70.0</td>\n",
              "      <td>1.5</td>\n",
              "    </tr>\n",
              "    <tr>\n",
              "      <th>2</th>\n",
              "      <td>0</td>\n",
              "      <td>2016-01-01 02:00:00</td>\n",
              "      <td>22.8</td>\n",
              "      <td>2.0</td>\n",
              "      <td>21.1</td>\n",
              "      <td>0.0</td>\n",
              "      <td>1020.2</td>\n",
              "      <td>0.0</td>\n",
              "      <td>0.0</td>\n",
              "    </tr>\n",
              "    <tr>\n",
              "      <th>3</th>\n",
              "      <td>0</td>\n",
              "      <td>2016-01-01 03:00:00</td>\n",
              "      <td>21.1</td>\n",
              "      <td>2.0</td>\n",
              "      <td>20.6</td>\n",
              "      <td>0.0</td>\n",
              "      <td>1020.1</td>\n",
              "      <td>0.0</td>\n",
              "      <td>0.0</td>\n",
              "    </tr>\n",
              "    <tr>\n",
              "      <th>4</th>\n",
              "      <td>0</td>\n",
              "      <td>2016-01-01 04:00:00</td>\n",
              "      <td>20.0</td>\n",
              "      <td>2.0</td>\n",
              "      <td>20.0</td>\n",
              "      <td>-1.0</td>\n",
              "      <td>1020.0</td>\n",
              "      <td>250.0</td>\n",
              "      <td>2.6</td>\n",
              "    </tr>\n",
              "  </tbody>\n",
              "</table>\n",
              "</div>"
            ],
            "text/plain": [
              "   site_id           timestamp  ...  wind_direction  wind_speed\n",
              "0        0 2016-01-01 00:00:00  ...             0.0         0.0\n",
              "1        0 2016-01-01 01:00:00  ...            70.0         1.5\n",
              "2        0 2016-01-01 02:00:00  ...             0.0         0.0\n",
              "3        0 2016-01-01 03:00:00  ...             0.0         0.0\n",
              "4        0 2016-01-01 04:00:00  ...           250.0         2.6\n",
              "\n",
              "[5 rows x 9 columns]"
            ]
          },
          "metadata": {
            "tags": []
          },
          "execution_count": 17
        }
      ]
    },
    {
      "cell_type": "markdown",
      "metadata": {
        "id": "DLZNjow1ozwu",
        "colab_type": "text"
      },
      "source": [
        "**Data Visualiasation**"
      ]
    },
    {
      "cell_type": "code",
      "metadata": {
        "id": "L0cuhHOCop-E",
        "colab_type": "code",
        "outputId": "69fba305-16be-429a-e814-50d70ca3e3c8",
        "colab": {
          "base_uri": "https://localhost:8080/",
          "height": 317
        }
      },
      "source": [
        "weather_train.describe()"
      ],
      "execution_count": 18,
      "outputs": [
        {
          "output_type": "execute_result",
          "data": {
            "text/html": [
              "<div>\n",
              "<style scoped>\n",
              "    .dataframe tbody tr th:only-of-type {\n",
              "        vertical-align: middle;\n",
              "    }\n",
              "\n",
              "    .dataframe tbody tr th {\n",
              "        vertical-align: top;\n",
              "    }\n",
              "\n",
              "    .dataframe thead th {\n",
              "        text-align: right;\n",
              "    }\n",
              "</style>\n",
              "<table border=\"1\" class=\"dataframe\">\n",
              "  <thead>\n",
              "    <tr style=\"text-align: right;\">\n",
              "      <th></th>\n",
              "      <th>site_id</th>\n",
              "      <th>air_temperature</th>\n",
              "      <th>cloud_coverage</th>\n",
              "      <th>dew_temperature</th>\n",
              "      <th>precip_depth_1_hr</th>\n",
              "      <th>sea_level_pressure</th>\n",
              "      <th>wind_direction</th>\n",
              "      <th>wind_speed</th>\n",
              "    </tr>\n",
              "  </thead>\n",
              "  <tbody>\n",
              "    <tr>\n",
              "      <th>count</th>\n",
              "      <td>139773.000000</td>\n",
              "      <td>139718.000000</td>\n",
              "      <td>70600.000000</td>\n",
              "      <td>139660.000000</td>\n",
              "      <td>89484.000000</td>\n",
              "      <td>129155.000000</td>\n",
              "      <td>133505.000000</td>\n",
              "      <td>139469.000000</td>\n",
              "    </tr>\n",
              "    <tr>\n",
              "      <th>mean</th>\n",
              "      <td>7.478977</td>\n",
              "      <td>14.418106</td>\n",
              "      <td>2.149306</td>\n",
              "      <td>7.350158</td>\n",
              "      <td>0.983047</td>\n",
              "      <td>1016.158038</td>\n",
              "      <td>180.526632</td>\n",
              "      <td>3.560527</td>\n",
              "    </tr>\n",
              "    <tr>\n",
              "      <th>std</th>\n",
              "      <td>4.604744</td>\n",
              "      <td>10.626595</td>\n",
              "      <td>2.599150</td>\n",
              "      <td>9.790235</td>\n",
              "      <td>8.463678</td>\n",
              "      <td>7.629684</td>\n",
              "      <td>111.523629</td>\n",
              "      <td>2.335874</td>\n",
              "    </tr>\n",
              "    <tr>\n",
              "      <th>min</th>\n",
              "      <td>0.000000</td>\n",
              "      <td>-28.900000</td>\n",
              "      <td>0.000000</td>\n",
              "      <td>-35.000000</td>\n",
              "      <td>-1.000000</td>\n",
              "      <td>968.200000</td>\n",
              "      <td>0.000000</td>\n",
              "      <td>0.000000</td>\n",
              "    </tr>\n",
              "    <tr>\n",
              "      <th>25%</th>\n",
              "      <td>3.000000</td>\n",
              "      <td>7.200000</td>\n",
              "      <td>0.000000</td>\n",
              "      <td>0.600000</td>\n",
              "      <td>0.000000</td>\n",
              "      <td>1011.800000</td>\n",
              "      <td>80.000000</td>\n",
              "      <td>2.100000</td>\n",
              "    </tr>\n",
              "    <tr>\n",
              "      <th>50%</th>\n",
              "      <td>7.000000</td>\n",
              "      <td>15.000000</td>\n",
              "      <td>2.000000</td>\n",
              "      <td>8.300000</td>\n",
              "      <td>0.000000</td>\n",
              "      <td>1016.400000</td>\n",
              "      <td>190.000000</td>\n",
              "      <td>3.100000</td>\n",
              "    </tr>\n",
              "    <tr>\n",
              "      <th>75%</th>\n",
              "      <td>11.000000</td>\n",
              "      <td>22.200000</td>\n",
              "      <td>4.000000</td>\n",
              "      <td>14.400000</td>\n",
              "      <td>0.000000</td>\n",
              "      <td>1020.800000</td>\n",
              "      <td>280.000000</td>\n",
              "      <td>5.000000</td>\n",
              "    </tr>\n",
              "    <tr>\n",
              "      <th>max</th>\n",
              "      <td>15.000000</td>\n",
              "      <td>47.200000</td>\n",
              "      <td>9.000000</td>\n",
              "      <td>26.100000</td>\n",
              "      <td>343.000000</td>\n",
              "      <td>1045.500000</td>\n",
              "      <td>360.000000</td>\n",
              "      <td>19.000000</td>\n",
              "    </tr>\n",
              "  </tbody>\n",
              "</table>\n",
              "</div>"
            ],
            "text/plain": [
              "             site_id  air_temperature  ...  wind_direction     wind_speed\n",
              "count  139773.000000    139718.000000  ...   133505.000000  139469.000000\n",
              "mean        7.478977        14.418106  ...      180.526632       3.560527\n",
              "std         4.604744        10.626595  ...      111.523629       2.335874\n",
              "min         0.000000       -28.900000  ...        0.000000       0.000000\n",
              "25%         3.000000         7.200000  ...       80.000000       2.100000\n",
              "50%         7.000000        15.000000  ...      190.000000       3.100000\n",
              "75%        11.000000        22.200000  ...      280.000000       5.000000\n",
              "max        15.000000        47.200000  ...      360.000000      19.000000\n",
              "\n",
              "[8 rows x 8 columns]"
            ]
          },
          "metadata": {
            "tags": []
          },
          "execution_count": 18
        }
      ]
    },
    {
      "cell_type": "markdown",
      "metadata": {
        "id": "d19bSiuRciDe",
        "colab_type": "text"
      },
      "source": [
        "* min value of wind_speed as 0 does not make any sense.\n",
        "\n"
      ]
    },
    {
      "cell_type": "code",
      "metadata": {
        "id": "RtEMCrM-dre1",
        "colab_type": "code",
        "outputId": "43bd47a8-6723-4771-ee87-5590000018be",
        "colab": {
          "base_uri": "https://localhost:8080/",
          "height": 197
        }
      },
      "source": [
        "weather_train.isnull().sum()"
      ],
      "execution_count": 19,
      "outputs": [
        {
          "output_type": "execute_result",
          "data": {
            "text/plain": [
              "site_id                   0\n",
              "timestamp                 0\n",
              "air_temperature          55\n",
              "cloud_coverage        69173\n",
              "dew_temperature         113\n",
              "precip_depth_1_hr     50289\n",
              "sea_level_pressure    10618\n",
              "wind_direction         6268\n",
              "wind_speed              304\n",
              "dtype: int64"
            ]
          },
          "metadata": {
            "tags": []
          },
          "execution_count": 19
        }
      ]
    },
    {
      "cell_type": "markdown",
      "metadata": {
        "id": "g4JVvNEUdzPX",
        "colab_type": "text"
      },
      "source": [
        "* missing data especially in precip_depth_1_hr,\n",
        "\n",
        "1.   Élément de liste\n",
        "2.   Élément de liste\n",
        "\n",
        "sea_level_pressure ,cloud coverage "
      ]
    },
    {
      "cell_type": "code",
      "metadata": {
        "id": "qhtSatqssc7h",
        "colab_type": "code",
        "colab": {}
      },
      "source": [
        "train_df = train.copy()\n",
        "test_df = test.copy()\n",
        "weather_train_df = weather_train.copy()\n",
        "weather_test_df = weather_test.copy()"
      ],
      "execution_count": 0,
      "outputs": []
    },
    {
      "cell_type": "code",
      "metadata": {
        "id": "znnVYXFQpZUz",
        "colab_type": "code",
        "colab": {}
      },
      "source": [
        "import numpy as np\n",
        "import seaborn as sns\n",
        "from matplotlib import pyplot as plt\n"
      ],
      "execution_count": 0,
      "outputs": []
    },
    {
      "cell_type": "code",
      "metadata": {
        "id": "kUeNlTlLr45e",
        "colab_type": "code",
        "outputId": "667cca8b-7038-4d0a-dc67-da93da106224",
        "colab": {
          "base_uri": "https://localhost:8080/",
          "height": 89
        }
      },
      "source": [
        "weather_train.columns"
      ],
      "execution_count": 22,
      "outputs": [
        {
          "output_type": "execute_result",
          "data": {
            "text/plain": [
              "Index(['site_id', 'timestamp', 'air_temperature', 'cloud_coverage',\n",
              "       'dew_temperature', 'precip_depth_1_hr', 'sea_level_pressure',\n",
              "       'wind_direction', 'wind_speed'],\n",
              "      dtype='object')"
            ]
          },
          "metadata": {
            "tags": []
          },
          "execution_count": 22
        }
      ]
    },
    {
      "cell_type": "code",
      "metadata": {
        "id": "gcr74HaKsOgv",
        "colab_type": "code",
        "outputId": "447d6b7c-5f84-407e-8c32-11e7583fd370",
        "colab": {
          "base_uri": "https://localhost:8080/",
          "height": 1000
        }
      },
      "source": [
        "weather_cols = ['air_temperature','cloud_coverage','dew_temperature', 'precip_depth_1_hr', 'sea_level_pressure',\n",
        "       'wind_direction', 'wind_speed']\n",
        "for ind,col in enumerate(weather_train_df[weather_cols]):\n",
        "    plt.figure(ind)\n",
        "    sns.distplot(weather_train_df[col].dropna())  "
      ],
      "execution_count": 23,
      "outputs": [
        {
          "output_type": "display_data",
          "data": {
            "image/png": "[encoded data removed]",
            "text/plain": [
              "<Figure size 432x288 with 1 Axes>"
            ]
          },
          "metadata": {
            "tags": []
          }
        },
        {
          "output_type": "display_data",
          "data": {
            "image/png": "[encoded data removed]",
            "text/plain": [
              "<Figure size 432x288 with 1 Axes>"
            ]
          },
          "metadata": {
            "tags": []
          }
        },
        {
          "output_type": "display_data",
          "data": {
            "image/png": "[encoded data removed]",
            "text/plain": [
              "<Figure size 432x288 with 1 Axes>"
            ]
          },
          "metadata": {
            "tags": []
          }
        },
        {
          "output_type": "display_data",
          "data": {
            "image/png": "[encoded data removed]",
            "text/plain": [
              "<Figure size 432x288 with 1 Axes>"
            ]
          },
          "metadata": {
            "tags": []
          }
        },
        {
          "output_type": "display_data",
          "data": {
            "image/png": "[encoded data removed]",
            "text/plain": [
              "<Figure size 432x288 with 1 Axes>"
            ]
          },
          "metadata": {
            "tags": []
          }
        },
        {
          "output_type": "display_data",
          "data": {
            "image/png": "[encoded data removed]",
            "text/plain": [
              "<Figure size 432x288 with 1 Axes>"
            ]
          },
          "metadata": {
            "tags": []
          }
        },
        {
          "output_type": "display_data",
          "data": {
            "image/png": "[encoded data removed]",
            "text/plain": [
              "<Figure size 432x288 with 1 Axes>"
            ]
          },
          "metadata": {
            "tags": []
          }
        }
      ]
    },
    {
      "cell_type": "code",
      "metadata": {
        "id": "hKecDKDXwkmP",
        "colab_type": "code",
        "outputId": "68d69aa2-2669-40d2-b490-1a7aa067e374",
        "colab": {
          "base_uri": "https://localhost:8080/",
          "height": 1000
        }
      },
      "source": [
        "for ind,col in enumerate(weather_train_df[weather_cols]):\n",
        "    plt.figure(ind)\n",
        "    sns.boxplot(weather_train_df[col].dropna())"
      ],
      "execution_count": 24,
      "outputs": [
        {
          "output_type": "display_data",
          "data": {
            "image/png": "[encoded data removed]",
            "text/plain": [
              "<Figure size 432x288 with 1 Axes>"
            ]
          },
          "metadata": {
            "tags": []
          }
        },
        {
          "output_type": "display_data",
          "data": {
            "image/png": "[encoded data removed]",
            "text/plain": [
              "<Figure size 432x288 with 1 Axes>"
            ]
          },
          "metadata": {
            "tags": []
          }
        },
        {
          "output_type": "display_data",
          "data": {
            "image/png": "[encoded data removed]",
            "text/plain": [
              "<Figure size 432x288 with 1 Axes>"
            ]
          },
          "metadata": {
            "tags": []
          }
        },
        {
          "output_type": "display_data",
          "data": {
            "image/png": "[encoded data removed]",
            "text/plain": [
              "<Figure size 432x288 with 1 Axes>"
            ]
          },
          "metadata": {
            "tags": []
          }
        },
        {
          "output_type": "display_data",
          "data": {
            "image/png": "[encoded data removed]",
            "text/plain": [
              "<Figure size 432x288 with 1 Axes>"
            ]
          },
          "metadata": {
            "tags": []
          }
        },
        {
          "output_type": "display_data",
          "data": {
            "image/png": "[encoded data removed]",
            "text/plain": [
              "<Figure size 432x288 with 1 Axes>"
            ]
          },
          "metadata": {
            "tags": []
          }
        },
        {
          "output_type": "display_data",
          "data": {
            "image/png": "[encoded data removed]",
            "text/plain": [
              "<Figure size 432x288 with 1 Axes>"
            ]
          },
          "metadata": {
            "tags": []
          }
        }
      ]
    },
    {
      "cell_type": "markdown",
      "metadata": {
        "id": "eGKdyko3yXKC",
        "colab_type": "text"
      },
      "source": [
        "* we can use air temprature feature ,a usefull feature without any outliers\n",
        "* sea_level_pressure is a usefull feature \n",
        "* many 0 values in precip_depth_1_hr "
      ]
    },
    {
      "cell_type": "code",
      "metadata": {
        "id": "gpgoH6ZAyFZB",
        "colab_type": "code",
        "outputId": "7551343c-55bd-4810-84ea-0555a860ec25",
        "colab": {
          "base_uri": "https://localhost:8080/",
          "height": 35
        }
      },
      "source": [
        "weather_train_df.shape\n",
        "\n"
      ],
      "execution_count": 25,
      "outputs": [
        {
          "output_type": "execute_result",
          "data": {
            "text/plain": [
              "(139773, 9)"
            ]
          },
          "metadata": {
            "tags": []
          },
          "execution_count": 25
        }
      ]
    },
    {
      "cell_type": "code",
      "metadata": {
        "id": "oQgMjeK3u1wD",
        "colab_type": "code",
        "outputId": "a21cfe4e-0d51-42f6-ce1e-891c18d5cb2b",
        "colab": {
          "base_uri": "https://localhost:8080/",
          "height": 419
        }
      },
      "source": [
        "train_df "
      ],
      "execution_count": 26,
      "outputs": [
        {
          "output_type": "execute_result",
          "data": {
            "text/html": [
              "<div>\n",
              "<style scoped>\n",
              "    .dataframe tbody tr th:only-of-type {\n",
              "        vertical-align: middle;\n",
              "    }\n",
              "\n",
              "    .dataframe tbody tr th {\n",
              "        vertical-align: top;\n",
              "    }\n",
              "\n",
              "    .dataframe thead th {\n",
              "        text-align: right;\n",
              "    }\n",
              "</style>\n",
              "<table border=\"1\" class=\"dataframe\">\n",
              "  <thead>\n",
              "    <tr style=\"text-align: right;\">\n",
              "      <th></th>\n",
              "      <th>building_id</th>\n",
              "      <th>meter</th>\n",
              "      <th>timestamp</th>\n",
              "      <th>meter_reading</th>\n",
              "    </tr>\n",
              "  </thead>\n",
              "  <tbody>\n",
              "    <tr>\n",
              "      <th>0</th>\n",
              "      <td>0</td>\n",
              "      <td>0</td>\n",
              "      <td>2016-01-01 00:00:00</td>\n",
              "      <td>0.000</td>\n",
              "    </tr>\n",
              "    <tr>\n",
              "      <th>1</th>\n",
              "      <td>1</td>\n",
              "      <td>0</td>\n",
              "      <td>2016-01-01 00:00:00</td>\n",
              "      <td>0.000</td>\n",
              "    </tr>\n",
              "    <tr>\n",
              "      <th>2</th>\n",
              "      <td>2</td>\n",
              "      <td>0</td>\n",
              "      <td>2016-01-01 00:00:00</td>\n",
              "      <td>0.000</td>\n",
              "    </tr>\n",
              "    <tr>\n",
              "      <th>3</th>\n",
              "      <td>3</td>\n",
              "      <td>0</td>\n",
              "      <td>2016-01-01 00:00:00</td>\n",
              "      <td>0.000</td>\n",
              "    </tr>\n",
              "    <tr>\n",
              "      <th>4</th>\n",
              "      <td>4</td>\n",
              "      <td>0</td>\n",
              "      <td>2016-01-01 00:00:00</td>\n",
              "      <td>0.000</td>\n",
              "    </tr>\n",
              "    <tr>\n",
              "      <th>...</th>\n",
              "      <td>...</td>\n",
              "      <td>...</td>\n",
              "      <td>...</td>\n",
              "      <td>...</td>\n",
              "    </tr>\n",
              "    <tr>\n",
              "      <th>20216095</th>\n",
              "      <td>1444</td>\n",
              "      <td>0</td>\n",
              "      <td>2016-12-31 23:00:00</td>\n",
              "      <td>8.750</td>\n",
              "    </tr>\n",
              "    <tr>\n",
              "      <th>20216096</th>\n",
              "      <td>1445</td>\n",
              "      <td>0</td>\n",
              "      <td>2016-12-31 23:00:00</td>\n",
              "      <td>4.825</td>\n",
              "    </tr>\n",
              "    <tr>\n",
              "      <th>20216097</th>\n",
              "      <td>1446</td>\n",
              "      <td>0</td>\n",
              "      <td>2016-12-31 23:00:00</td>\n",
              "      <td>0.000</td>\n",
              "    </tr>\n",
              "    <tr>\n",
              "      <th>20216098</th>\n",
              "      <td>1447</td>\n",
              "      <td>0</td>\n",
              "      <td>2016-12-31 23:00:00</td>\n",
              "      <td>159.575</td>\n",
              "    </tr>\n",
              "    <tr>\n",
              "      <th>20216099</th>\n",
              "      <td>1448</td>\n",
              "      <td>0</td>\n",
              "      <td>2016-12-31 23:00:00</td>\n",
              "      <td>2.850</td>\n",
              "    </tr>\n",
              "  </tbody>\n",
              "</table>\n",
              "<p>20216100 rows × 4 columns</p>\n",
              "</div>"
            ],
            "text/plain": [
              "          building_id  meter           timestamp  meter_reading\n",
              "0                   0      0 2016-01-01 00:00:00          0.000\n",
              "1                   1      0 2016-01-01 00:00:00          0.000\n",
              "2                   2      0 2016-01-01 00:00:00          0.000\n",
              "3                   3      0 2016-01-01 00:00:00          0.000\n",
              "4                   4      0 2016-01-01 00:00:00          0.000\n",
              "...               ...    ...                 ...            ...\n",
              "20216095         1444      0 2016-12-31 23:00:00          8.750\n",
              "20216096         1445      0 2016-12-31 23:00:00          4.825\n",
              "20216097         1446      0 2016-12-31 23:00:00          0.000\n",
              "20216098         1447      0 2016-12-31 23:00:00        159.575\n",
              "20216099         1448      0 2016-12-31 23:00:00          2.850\n",
              "\n",
              "[20216100 rows x 4 columns]"
            ]
          },
          "metadata": {
            "tags": []
          },
          "execution_count": 26
        }
      ]
    },
    {
      "cell_type": "code",
      "metadata": {
        "id": "NalwDw50u_0L",
        "colab_type": "code",
        "outputId": "3a17a469-c23c-4289-b86c-60eeb3de8672",
        "colab": {
          "base_uri": "https://localhost:8080/",
          "height": 35
        }
      },
      "source": [
        "train_df.shape"
      ],
      "execution_count": 27,
      "outputs": [
        {
          "output_type": "execute_result",
          "data": {
            "text/plain": [
              "(20216100, 4)"
            ]
          },
          "metadata": {
            "tags": []
          },
          "execution_count": 27
        }
      ]
    },
    {
      "cell_type": "markdown",
      "metadata": {
        "id": "WvZKINDoqk_d",
        "colab_type": "text"
      },
      "source": [
        "* I notice that there is too many value so we have to replace them with the mean or NAN"
      ]
    },
    {
      "cell_type": "code",
      "metadata": {
        "id": "E7JypoizvHbQ",
        "colab_type": "code",
        "outputId": "66ba234e-b00a-469d-9cab-be8cd4057446",
        "colab": {
          "base_uri": "https://localhost:8080/",
          "height": 297
        }
      },
      "source": [
        "train_df.describe()"
      ],
      "execution_count": 28,
      "outputs": [
        {
          "output_type": "execute_result",
          "data": {
            "text/html": [
              "<div>\n",
              "<style scoped>\n",
              "    .dataframe tbody tr th:only-of-type {\n",
              "        vertical-align: middle;\n",
              "    }\n",
              "\n",
              "    .dataframe tbody tr th {\n",
              "        vertical-align: top;\n",
              "    }\n",
              "\n",
              "    .dataframe thead th {\n",
              "        text-align: right;\n",
              "    }\n",
              "</style>\n",
              "<table border=\"1\" class=\"dataframe\">\n",
              "  <thead>\n",
              "    <tr style=\"text-align: right;\">\n",
              "      <th></th>\n",
              "      <th>building_id</th>\n",
              "      <th>meter</th>\n",
              "      <th>meter_reading</th>\n",
              "    </tr>\n",
              "  </thead>\n",
              "  <tbody>\n",
              "    <tr>\n",
              "      <th>count</th>\n",
              "      <td>2.021610e+07</td>\n",
              "      <td>2.021610e+07</td>\n",
              "      <td>2.021610e+07</td>\n",
              "    </tr>\n",
              "    <tr>\n",
              "      <th>mean</th>\n",
              "      <td>7.992780e+02</td>\n",
              "      <td>6.624412e-01</td>\n",
              "      <td>2.117121e+03</td>\n",
              "    </tr>\n",
              "    <tr>\n",
              "      <th>std</th>\n",
              "      <td>4.269133e+02</td>\n",
              "      <td>9.309921e-01</td>\n",
              "      <td>1.532356e+05</td>\n",
              "    </tr>\n",
              "    <tr>\n",
              "      <th>min</th>\n",
              "      <td>0.000000e+00</td>\n",
              "      <td>0.000000e+00</td>\n",
              "      <td>0.000000e+00</td>\n",
              "    </tr>\n",
              "    <tr>\n",
              "      <th>25%</th>\n",
              "      <td>3.930000e+02</td>\n",
              "      <td>0.000000e+00</td>\n",
              "      <td>1.830000e+01</td>\n",
              "    </tr>\n",
              "    <tr>\n",
              "      <th>50%</th>\n",
              "      <td>8.950000e+02</td>\n",
              "      <td>0.000000e+00</td>\n",
              "      <td>7.877500e+01</td>\n",
              "    </tr>\n",
              "    <tr>\n",
              "      <th>75%</th>\n",
              "      <td>1.179000e+03</td>\n",
              "      <td>1.000000e+00</td>\n",
              "      <td>2.679840e+02</td>\n",
              "    </tr>\n",
              "    <tr>\n",
              "      <th>max</th>\n",
              "      <td>1.448000e+03</td>\n",
              "      <td>3.000000e+00</td>\n",
              "      <td>2.190470e+07</td>\n",
              "    </tr>\n",
              "  </tbody>\n",
              "</table>\n",
              "</div>"
            ],
            "text/plain": [
              "        building_id         meter  meter_reading\n",
              "count  2.021610e+07  2.021610e+07   2.021610e+07\n",
              "mean   7.992780e+02  6.624412e-01   2.117121e+03\n",
              "std    4.269133e+02  9.309921e-01   1.532356e+05\n",
              "min    0.000000e+00  0.000000e+00   0.000000e+00\n",
              "25%    3.930000e+02  0.000000e+00   1.830000e+01\n",
              "50%    8.950000e+02  0.000000e+00   7.877500e+01\n",
              "75%    1.179000e+03  1.000000e+00   2.679840e+02\n",
              "max    1.448000e+03  3.000000e+00   2.190470e+07"
            ]
          },
          "metadata": {
            "tags": []
          },
          "execution_count": 28
        }
      ]
    },
    {
      "cell_type": "code",
      "metadata": {
        "id": "T5rMbT-XvSu8",
        "colab_type": "code",
        "outputId": "328af721-73c6-4705-9b1a-622c38ce1c83",
        "colab": {
          "base_uri": "https://localhost:8080/",
          "height": 107
        }
      },
      "source": [
        "train_df.isnull().sum()"
      ],
      "execution_count": 29,
      "outputs": [
        {
          "output_type": "execute_result",
          "data": {
            "text/plain": [
              "building_id      0\n",
              "meter            0\n",
              "timestamp        0\n",
              "meter_reading    0\n",
              "dtype: int64"
            ]
          },
          "metadata": {
            "tags": []
          },
          "execution_count": 29
        }
      ]
    },
    {
      "cell_type": "markdown",
      "metadata": {
        "id": "wEbsJmOFvaVW",
        "colab_type": "text"
      },
      "source": [
        "* There is no missing value in train_df"
      ]
    },
    {
      "cell_type": "markdown",
      "metadata": {
        "id": "jL6c2KfgsPSj",
        "colab_type": "text"
      },
      "source": [
        "Data Preparation\n"
      ]
    },
    {
      "cell_type": "code",
      "metadata": {
        "id": "tZy2BnJsSd1R",
        "colab_type": "code",
        "colab": {}
      },
      "source": [
        "def fill_weather_dataset(weather_df):\n",
        "    \n",
        "    # Find Missing Dates\n",
        "    time_format = \"%Y-%m-%d %H:%M:%S\"\n",
        "\n",
        "    # Add new Features\n",
        "    weather_df[\"datetime\"] = pd.to_datetime(weather_df[\"timestamp\"])\n",
        "    weather_df[\"day\"] = weather_df[\"datetime\"].dt.day\n",
        "    weather_df[\"week\"] = weather_df[\"datetime\"].dt.week\n",
        "    weather_df[\"month\"] = weather_df[\"datetime\"].dt.month\n",
        "    \n",
        "    # Reset Index for Fast Update\n",
        "    weather_df = weather_df.set_index(['site_id','day','month'])\n",
        "\n",
        "    air_temperature_filler = pd.DataFrame(weather_df.groupby(['site_id','day','month'])['air_temperature'].mean(),columns=[\"air_temperature\"])\n",
        "    weather_df.update(air_temperature_filler,overwrite=False)\n",
        "\n",
        "    # Step 1\n",
        "    cloud_coverage_filler = weather_df.groupby(['site_id','day','month'])['cloud_coverage'].mean()\n",
        "    # Step 2\n",
        "    cloud_coverage_filler = pd.DataFrame(cloud_coverage_filler.fillna(method='ffill'),columns=[\"cloud_coverage\"])\n",
        "\n",
        "\n",
        "    weather_df.update(cloud_coverage_filler,overwrite=False)\n",
        "\n",
        "    due_temperature_filler = pd.DataFrame(weather_df.groupby(['site_id','day','month'])['dew_temperature'].mean(),columns=[\"dew_temperature\"])\n",
        "    weather_df.update(due_temperature_filler,overwrite=False)\n",
        "\n",
        "    # Step 1\n",
        "    sea_level_filler = weather_df.groupby(['site_id','day','month'])['sea_level_pressure'].mean()\n",
        "    # Step 2\n",
        "    sea_level_filler = pd.DataFrame(sea_level_filler.fillna(method='ffill'),columns=['sea_level_pressure'])\n",
        "\n",
        "    weather_df.update(sea_level_filler,overwrite=False)\n",
        "\n",
        "    wind_direction_filler =  pd.DataFrame(weather_df.groupby(['site_id','day','month'])['wind_direction'].mean(),columns=['wind_direction'])\n",
        "    weather_df.update(wind_direction_filler,overwrite=False)\n",
        "\n",
        "    wind_speed_filler =  pd.DataFrame(weather_df.groupby(['site_id','day','month'])['wind_speed'].mean(),columns=['wind_speed'])\n",
        "    weather_df.update(wind_speed_filler,overwrite=False)\n",
        "\n",
        "    # Step 1\n",
        "    precip_depth_filler = weather_df.groupby(['site_id','day','month'])['precip_depth_1_hr'].mean()\n",
        "\n",
        "    # Step 2\n",
        "    precip_depth_filler = pd.DataFrame(precip_depth_filler.fillna(method='ffill'),columns=['precip_depth_1_hr'])\n",
        "\n",
        "    weather_df.update(precip_depth_filler,overwrite=False)\n",
        "\n",
        "    weather_df = weather_df.reset_index()\n",
        "    weather_df = weather_df.drop(['datetime','day','week','month'],axis=1)\n",
        "    return weather_df"
      ],
      "execution_count": 0,
      "outputs": []
    },
    {
      "cell_type": "code",
      "metadata": {
        "id": "O7NF4Xs6rEgh",
        "colab_type": "code",
        "colab": {}
      },
      "source": [
        "weather_train_df = fill_weather_dataset(weather_train_df)\n",
        "weather_test_df = fill_weather_dataset(weather_test_df)\n"
      ],
      "execution_count": 0,
      "outputs": []
    },
    {
      "cell_type": "code",
      "metadata": {
        "id": "Z-CaDPTLrdvo",
        "colab_type": "code",
        "outputId": "7c97349c-47c7-4b4b-a84a-4185e35b7198",
        "colab": {
          "base_uri": "https://localhost:8080/",
          "height": 197
        }
      },
      "source": [
        "weather_train_df.isnull().sum()"
      ],
      "execution_count": 32,
      "outputs": [
        {
          "output_type": "execute_result",
          "data": {
            "text/plain": [
              "site_id               0\n",
              "timestamp             0\n",
              "air_temperature       0\n",
              "cloud_coverage        0\n",
              "dew_temperature       0\n",
              "precip_depth_1_hr     0\n",
              "sea_level_pressure    0\n",
              "wind_direction        0\n",
              "wind_speed            0\n",
              "dtype: int64"
            ]
          },
          "metadata": {
            "tags": []
          },
          "execution_count": 32
        }
      ]
    },
    {
      "cell_type": "markdown",
      "metadata": {
        "id": "qcwvFfK49YVQ",
        "colab_type": "text"
      },
      "source": [
        "**Merging Data** "
      ]
    },
    {
      "cell_type": "code",
      "metadata": {
        "id": "AN_OSoShrr21",
        "colab_type": "code",
        "colab": {}
      },
      "source": [
        "train = pd.merge(train,building_metadata,on='building_id',how='left')\n",
        "test  = pd.merge(test,building_metadata,on='building_id',how='left')"
      ],
      "execution_count": 0,
      "outputs": []
    },
    {
      "cell_type": "code",
      "metadata": {
        "id": "NWFdrl6z-SAo",
        "colab_type": "code",
        "colab": {}
      },
      "source": [
        "train = pd.merge(train,weather_train,on=['site_id','timestamp'],how='left')\n",
        "test  = pd.merge(test,weather_test,on=['site_id','timestamp'],how='left')"
      ],
      "execution_count": 0,
      "outputs": []
    },
    {
      "cell_type": "code",
      "metadata": {
        "id": "AK95VC015aih",
        "colab_type": "code",
        "outputId": "15e8f7a6-111b-42ee-a15b-96cbf7ea1622",
        "colab": {
          "base_uri": "https://localhost:8080/",
          "height": 35
        }
      },
      "source": [
        "import gc\n",
        "del weather_train, weather_test, building_metadata, train_df, weather_train_df, weather_test_df\n",
        "gc.collect()"
      ],
      "execution_count": 35,
      "outputs": [
        {
          "output_type": "execute_result",
          "data": {
            "text/plain": [
              "0"
            ]
          },
          "metadata": {
            "tags": []
          },
          "execution_count": 35
        }
      ]
    },
    {
      "cell_type": "code",
      "metadata": {
        "id": "IJWKoi-_4UcX",
        "colab_type": "code",
        "colab": {}
      },
      "source": [
        "train['month'] = train['timestamp'].dt.month\n",
        "train['day'] = train['timestamp'].dt.month\n",
        "train['year'] = train['timestamp'].dt.month\n",
        "train['hour'] = train['timestamp'].dt.month\n",
        "\n",
        "test['month'] = test['timestamp'].dt.month\n",
        "test['day'] = test['timestamp'].dt.month\n",
        "test['year'] = test['timestamp'].dt.month\n",
        "test['hour'] = test['timestamp'].dt.month\n"
      ],
      "execution_count": 0,
      "outputs": []
    },
    {
      "cell_type": "code",
      "metadata": {
        "id": "as7Dgkq3478H",
        "colab_type": "code",
        "colab": {}
      },
      "source": [
        "train.drop(['timestamp'],axis=1,inplace=True)\n",
        "test.drop(['timestamp'],axis=1,inplace=True)"
      ],
      "execution_count": 0,
      "outputs": []
    },
    {
      "cell_type": "code",
      "metadata": {
        "id": "B9SYqPWjt11h",
        "colab_type": "code",
        "colab": {}
      },
      "source": [
        "test.drop(['row_id'],axis=1,inplace=True)"
      ],
      "execution_count": 0,
      "outputs": []
    },
    {
      "cell_type": "code",
      "metadata": {
        "id": "tDWKOD3WNcuo",
        "colab_type": "code",
        "outputId": "177de96b-fe96-45ce-ef23-6f8989d8fc88",
        "colab": {
          "base_uri": "https://localhost:8080/",
          "height": 377
        }
      },
      "source": [
        "train.isnull().sum()"
      ],
      "execution_count": 38,
      "outputs": [
        {
          "output_type": "execute_result",
          "data": {
            "text/plain": [
              "building_id                 0\n",
              "meter                       0\n",
              "meter_reading               0\n",
              "site_id                     0\n",
              "primary_use                 0\n",
              "square_feet                 0\n",
              "year_built                  0\n",
              "floor_count                 0\n",
              "air_temperature         96658\n",
              "cloud_coverage        8825365\n",
              "dew_temperature        100140\n",
              "precip_depth_1_hr     3749023\n",
              "sea_level_pressure    1231669\n",
              "wind_direction        1449048\n",
              "wind_speed             143676\n",
              "month                       0\n",
              "day                         0\n",
              "year                        0\n",
              "hour                        0\n",
              "dtype: int64"
            ]
          },
          "metadata": {
            "tags": []
          },
          "execution_count": 38
        }
      ]
    },
    {
      "cell_type": "code",
      "metadata": {
        "id": "zaVwwNSRQDfQ",
        "colab_type": "code",
        "outputId": "b38ee70d-2df4-4379-9b6c-51ab3ff7e936",
        "colab": {
          "base_uri": "https://localhost:8080/",
          "height": 377
        }
      },
      "source": [
        "test.isnull().sum()"
      ],
      "execution_count": 39,
      "outputs": [
        {
          "output_type": "execute_result",
          "data": {
            "text/plain": [
              "row_id                       0\n",
              "building_id                  0\n",
              "meter                        0\n",
              "site_id                      0\n",
              "primary_use                  0\n",
              "square_feet                  0\n",
              "year_built                   0\n",
              "floor_count                  0\n",
              "air_temperature         221901\n",
              "cloud_coverage        19542180\n",
              "dew_temperature         260799\n",
              "precip_depth_1_hr      7801563\n",
              "sea_level_pressure     2516826\n",
              "wind_direction         2978663\n",
              "wind_speed              302089\n",
              "month                        0\n",
              "day                          0\n",
              "year                         0\n",
              "hour                         0\n",
              "dtype: int64"
            ]
          },
          "metadata": {
            "tags": []
          },
          "execution_count": 39
        }
      ]
    },
    {
      "cell_type": "markdown",
      "metadata": {
        "id": "dH_tBgstO-88",
        "colab_type": "text"
      },
      "source": [
        "**FILLING THE MISSING VALUES**"
      ]
    },
    {
      "cell_type": "code",
      "metadata": {
        "id": "rZrjfu-FN6vh",
        "colab_type": "code",
        "colab": {}
      },
      "source": [
        "train['air_temperature'].fillna(train['air_temperature'].mean(), inplace=True)\n",
        "train['dew_temperature'].fillna(train['dew_temperature'].mean(), inplace=True)\n",
        "train['wind_speed'].fillna(train['wind_speed'].mean(), inplace=True)\n",
        "train['precip_depth_1_hr'].fillna(method='bfill', inplace=True)\n",
        "train['wind_direction'].fillna(method='ffill', inplace=True)\n",
        "train['sea_level_pressure'].fillna(method='ffill', inplace=True)\n",
        "train['cloud_coverage'].fillna(1.9, inplace=True)\n",
        "\n",
        "test['air_temperature'].fillna(test['air_temperature'].mean(), inplace=True)\n",
        "test['dew_temperature'].fillna(test['dew_temperature'].mean(), inplace=True)\n",
        "test['wind_speed'].fillna(test['wind_speed'].mean(), inplace=True)\n",
        "test['precip_depth_1_hr'].fillna(method='bfill', inplace=True)\n",
        "test['wind_direction'].fillna(method='ffill', inplace=True)\n",
        "test['sea_level_pressure'].fillna(method='ffill', inplace=True)\n",
        "test['cloud_coverage'].fillna(1.9, inplace=True)"
      ],
      "execution_count": 0,
      "outputs": []
    },
    {
      "cell_type": "code",
      "metadata": {
        "id": "tOYzfPFHgdtp",
        "colab_type": "code",
        "colab": {}
      },
      "source": [
        "d_types = {'building_id': np.int16,\n",
        "          'meter': np.int8,\n",
        "          'site_id': np.int8,\n",
        "          'primary_use': 'category',\n",
        "          'square_feet': np.int32,\n",
        "          'year_built': np.float16,\n",
        "          'floor_count': np.float16,\n",
        "          'air_temperature': np.float32,\n",
        "          'cloud_coverage': np.float16,\n",
        "          'dew_temperature': np.float32,\n",
        "          'precip_depth_1_hr': np.float16,\n",
        "          'sea_level_pressure': np.float32,\n",
        "          'wind_direction': np.float16,\n",
        "          'wind_speed': np.float32}\n",
        "\n",
        "for feature in d_types:\n",
        "    train[feature] = train[feature].astype(d_types[feature])\n",
        "    test[feature] = test[feature].astype(d_types[feature])"
      ],
      "execution_count": 0,
      "outputs": []
    },
    {
      "cell_type": "code",
      "metadata": {
        "id": "sjLFcolIyOCI",
        "colab_type": "code",
        "colab": {}
      },
      "source": [
        "train['meter_reading'] = np.log1p(train['meter_reading'])"
      ],
      "execution_count": 0,
      "outputs": []
    },
    {
      "cell_type": "code",
      "metadata": {
        "id": "5i98Oe01IxbM",
        "colab_type": "code",
        "outputId": "c5364d24-de2e-41be-80e9-f6d66248b130",
        "colab": {
          "base_uri": "https://localhost:8080/",
          "height": 35
        }
      },
      "source": [
        "train.shape"
      ],
      "execution_count": 43,
      "outputs": [
        {
          "output_type": "execute_result",
          "data": {
            "text/plain": [
              "(20216100, 19)"
            ]
          },
          "metadata": {
            "tags": []
          },
          "execution_count": 43
        }
      ]
    },
    {
      "cell_type": "code",
      "metadata": {
        "id": "FrchHRcpPD-u",
        "colab_type": "code",
        "outputId": "a9b6b57c-c1e6-4193-dd28-6ee7b7a4ccf5",
        "colab": {
          "base_uri": "https://localhost:8080/",
          "height": 377
        }
      },
      "source": [
        "train.isnull().sum()"
      ],
      "execution_count": 44,
      "outputs": [
        {
          "output_type": "execute_result",
          "data": {
            "text/plain": [
              "building_id           0\n",
              "meter                 0\n",
              "meter_reading         0\n",
              "site_id               0\n",
              "primary_use           0\n",
              "square_feet           0\n",
              "year_built            0\n",
              "floor_count           0\n",
              "air_temperature       0\n",
              "cloud_coverage        0\n",
              "dew_temperature       0\n",
              "precip_depth_1_hr     0\n",
              "sea_level_pressure    0\n",
              "wind_direction        0\n",
              "wind_speed            0\n",
              "month                 0\n",
              "day                   0\n",
              "year                  0\n",
              "hour                  0\n",
              "dtype: int64"
            ]
          },
          "metadata": {
            "tags": []
          },
          "execution_count": 44
        }
      ]
    },
    {
      "cell_type": "code",
      "metadata": {
        "id": "TopiSal_PP5O",
        "colab_type": "code",
        "outputId": "5695624b-0e99-43a0-ca8b-682edcf75088",
        "colab": {
          "base_uri": "https://localhost:8080/",
          "height": 179
        }
      },
      "source": [
        "train['cloud_coverage'].describe()"
      ],
      "execution_count": 45,
      "outputs": [
        {
          "output_type": "execute_result",
          "data": {
            "text/plain": [
              "count    2.021610e+07\n",
              "mean              NaN\n",
              "std      0.000000e+00\n",
              "min      0.000000e+00\n",
              "25%      0.000000e+00\n",
              "50%      1.900391e+00\n",
              "75%      2.000000e+00\n",
              "max      9.000000e+00\n",
              "Name: cloud_coverage, dtype: float64"
            ]
          },
          "metadata": {
            "tags": []
          },
          "execution_count": 45
        }
      ]
    },
    {
      "cell_type": "code",
      "metadata": {
        "id": "iwDa_VaDPqm0",
        "colab_type": "code",
        "outputId": "43034eff-5ecb-4bab-e7e2-0c6684909192",
        "colab": {
          "base_uri": "https://localhost:8080/",
          "height": 377
        }
      },
      "source": [
        "train.isnull().sum()"
      ],
      "execution_count": 46,
      "outputs": [
        {
          "output_type": "execute_result",
          "data": {
            "text/plain": [
              "building_id           0\n",
              "meter                 0\n",
              "meter_reading         0\n",
              "site_id               0\n",
              "primary_use           0\n",
              "square_feet           0\n",
              "year_built            0\n",
              "floor_count           0\n",
              "air_temperature       0\n",
              "cloud_coverage        0\n",
              "dew_temperature       0\n",
              "precip_depth_1_hr     0\n",
              "sea_level_pressure    0\n",
              "wind_direction        0\n",
              "wind_speed            0\n",
              "month                 0\n",
              "day                   0\n",
              "year                  0\n",
              "hour                  0\n",
              "dtype: int64"
            ]
          },
          "metadata": {
            "tags": []
          },
          "execution_count": 46
        }
      ]
    },
    {
      "cell_type": "markdown",
      "metadata": {
        "id": "lz3NzFXYQkwr",
        "colab_type": "text"
      },
      "source": [
        ""
      ]
    },
    {
      "cell_type": "code",
      "metadata": {
        "id": "b7BZd6OuZRzV",
        "colab_type": "code",
        "outputId": "0c8f1f99-6182-4383-db88-1782dee686e7",
        "colab": {
          "base_uri": "https://localhost:8080/",
          "height": 379
        }
      },
      "source": [
        "train.head(10)"
      ],
      "execution_count": 47,
      "outputs": [
        {
          "output_type": "execute_result",
          "data": {
            "text/html": [
              "<div>\n",
              "<style scoped>\n",
              "    .dataframe tbody tr th:only-of-type {\n",
              "        vertical-align: middle;\n",
              "    }\n",
              "\n",
              "    .dataframe tbody tr th {\n",
              "        vertical-align: top;\n",
              "    }\n",
              "\n",
              "    .dataframe thead th {\n",
              "        text-align: right;\n",
              "    }\n",
              "</style>\n",
              "<table border=\"1\" class=\"dataframe\">\n",
              "  <thead>\n",
              "    <tr style=\"text-align: right;\">\n",
              "      <th></th>\n",
              "      <th>building_id</th>\n",
              "      <th>meter</th>\n",
              "      <th>meter_reading</th>\n",
              "      <th>site_id</th>\n",
              "      <th>primary_use</th>\n",
              "      <th>square_feet</th>\n",
              "      <th>year_built</th>\n",
              "      <th>floor_count</th>\n",
              "      <th>air_temperature</th>\n",
              "      <th>cloud_coverage</th>\n",
              "      <th>dew_temperature</th>\n",
              "      <th>precip_depth_1_hr</th>\n",
              "      <th>sea_level_pressure</th>\n",
              "      <th>wind_direction</th>\n",
              "      <th>wind_speed</th>\n",
              "      <th>month</th>\n",
              "      <th>day</th>\n",
              "      <th>year</th>\n",
              "      <th>hour</th>\n",
              "    </tr>\n",
              "  </thead>\n",
              "  <tbody>\n",
              "    <tr>\n",
              "      <th>0</th>\n",
              "      <td>0</td>\n",
              "      <td>0</td>\n",
              "      <td>0.0</td>\n",
              "      <td>0</td>\n",
              "      <td>Education</td>\n",
              "      <td>7432</td>\n",
              "      <td>2008.0</td>\n",
              "      <td>3.699219</td>\n",
              "      <td>25.0</td>\n",
              "      <td>6.0</td>\n",
              "      <td>20.0</td>\n",
              "      <td>-1.0</td>\n",
              "      <td>1019.700012</td>\n",
              "      <td>0.0</td>\n",
              "      <td>0.0</td>\n",
              "      <td>1</td>\n",
              "      <td>1</td>\n",
              "      <td>1</td>\n",
              "      <td>1</td>\n",
              "    </tr>\n",
              "    <tr>\n",
              "      <th>1</th>\n",
              "      <td>1</td>\n",
              "      <td>0</td>\n",
              "      <td>0.0</td>\n",
              "      <td>0</td>\n",
              "      <td>Education</td>\n",
              "      <td>2720</td>\n",
              "      <td>2004.0</td>\n",
              "      <td>3.699219</td>\n",
              "      <td>25.0</td>\n",
              "      <td>6.0</td>\n",
              "      <td>20.0</td>\n",
              "      <td>-1.0</td>\n",
              "      <td>1019.700012</td>\n",
              "      <td>0.0</td>\n",
              "      <td>0.0</td>\n",
              "      <td>1</td>\n",
              "      <td>1</td>\n",
              "      <td>1</td>\n",
              "      <td>1</td>\n",
              "    </tr>\n",
              "    <tr>\n",
              "      <th>2</th>\n",
              "      <td>2</td>\n",
              "      <td>0</td>\n",
              "      <td>0.0</td>\n",
              "      <td>0</td>\n",
              "      <td>Education</td>\n",
              "      <td>5376</td>\n",
              "      <td>1991.0</td>\n",
              "      <td>3.699219</td>\n",
              "      <td>25.0</td>\n",
              "      <td>6.0</td>\n",
              "      <td>20.0</td>\n",
              "      <td>-1.0</td>\n",
              "      <td>1019.700012</td>\n",
              "      <td>0.0</td>\n",
              "      <td>0.0</td>\n",
              "      <td>1</td>\n",
              "      <td>1</td>\n",
              "      <td>1</td>\n",
              "      <td>1</td>\n",
              "    </tr>\n",
              "    <tr>\n",
              "      <th>3</th>\n",
              "      <td>3</td>\n",
              "      <td>0</td>\n",
              "      <td>0.0</td>\n",
              "      <td>0</td>\n",
              "      <td>Education</td>\n",
              "      <td>23685</td>\n",
              "      <td>2002.0</td>\n",
              "      <td>3.699219</td>\n",
              "      <td>25.0</td>\n",
              "      <td>6.0</td>\n",
              "      <td>20.0</td>\n",
              "      <td>-1.0</td>\n",
              "      <td>1019.700012</td>\n",
              "      <td>0.0</td>\n",
              "      <td>0.0</td>\n",
              "      <td>1</td>\n",
              "      <td>1</td>\n",
              "      <td>1</td>\n",
              "      <td>1</td>\n",
              "    </tr>\n",
              "    <tr>\n",
              "      <th>4</th>\n",
              "      <td>4</td>\n",
              "      <td>0</td>\n",
              "      <td>0.0</td>\n",
              "      <td>0</td>\n",
              "      <td>Education</td>\n",
              "      <td>116607</td>\n",
              "      <td>1975.0</td>\n",
              "      <td>3.699219</td>\n",
              "      <td>25.0</td>\n",
              "      <td>6.0</td>\n",
              "      <td>20.0</td>\n",
              "      <td>-1.0</td>\n",
              "      <td>1019.700012</td>\n",
              "      <td>0.0</td>\n",
              "      <td>0.0</td>\n",
              "      <td>1</td>\n",
              "      <td>1</td>\n",
              "      <td>1</td>\n",
              "      <td>1</td>\n",
              "    </tr>\n",
              "    <tr>\n",
              "      <th>5</th>\n",
              "      <td>5</td>\n",
              "      <td>0</td>\n",
              "      <td>0.0</td>\n",
              "      <td>0</td>\n",
              "      <td>Education</td>\n",
              "      <td>8000</td>\n",
              "      <td>2000.0</td>\n",
              "      <td>3.699219</td>\n",
              "      <td>25.0</td>\n",
              "      <td>6.0</td>\n",
              "      <td>20.0</td>\n",
              "      <td>-1.0</td>\n",
              "      <td>1019.700012</td>\n",
              "      <td>0.0</td>\n",
              "      <td>0.0</td>\n",
              "      <td>1</td>\n",
              "      <td>1</td>\n",
              "      <td>1</td>\n",
              "      <td>1</td>\n",
              "    </tr>\n",
              "    <tr>\n",
              "      <th>6</th>\n",
              "      <td>6</td>\n",
              "      <td>0</td>\n",
              "      <td>0.0</td>\n",
              "      <td>0</td>\n",
              "      <td>Lodging/residential</td>\n",
              "      <td>27926</td>\n",
              "      <td>1981.0</td>\n",
              "      <td>3.699219</td>\n",
              "      <td>25.0</td>\n",
              "      <td>6.0</td>\n",
              "      <td>20.0</td>\n",
              "      <td>-1.0</td>\n",
              "      <td>1019.700012</td>\n",
              "      <td>0.0</td>\n",
              "      <td>0.0</td>\n",
              "      <td>1</td>\n",
              "      <td>1</td>\n",
              "      <td>1</td>\n",
              "      <td>1</td>\n",
              "    </tr>\n",
              "    <tr>\n",
              "      <th>7</th>\n",
              "      <td>7</td>\n",
              "      <td>0</td>\n",
              "      <td>0.0</td>\n",
              "      <td>0</td>\n",
              "      <td>Education</td>\n",
              "      <td>121074</td>\n",
              "      <td>1989.0</td>\n",
              "      <td>3.699219</td>\n",
              "      <td>25.0</td>\n",
              "      <td>6.0</td>\n",
              "      <td>20.0</td>\n",
              "      <td>-1.0</td>\n",
              "      <td>1019.700012</td>\n",
              "      <td>0.0</td>\n",
              "      <td>0.0</td>\n",
              "      <td>1</td>\n",
              "      <td>1</td>\n",
              "      <td>1</td>\n",
              "      <td>1</td>\n",
              "    </tr>\n",
              "    <tr>\n",
              "      <th>8</th>\n",
              "      <td>8</td>\n",
              "      <td>0</td>\n",
              "      <td>0.0</td>\n",
              "      <td>0</td>\n",
              "      <td>Education</td>\n",
              "      <td>60809</td>\n",
              "      <td>2003.0</td>\n",
              "      <td>3.699219</td>\n",
              "      <td>25.0</td>\n",
              "      <td>6.0</td>\n",
              "      <td>20.0</td>\n",
              "      <td>-1.0</td>\n",
              "      <td>1019.700012</td>\n",
              "      <td>0.0</td>\n",
              "      <td>0.0</td>\n",
              "      <td>1</td>\n",
              "      <td>1</td>\n",
              "      <td>1</td>\n",
              "      <td>1</td>\n",
              "    </tr>\n",
              "    <tr>\n",
              "      <th>9</th>\n",
              "      <td>9</td>\n",
              "      <td>0</td>\n",
              "      <td>0.0</td>\n",
              "      <td>0</td>\n",
              "      <td>Office</td>\n",
              "      <td>27000</td>\n",
              "      <td>2010.0</td>\n",
              "      <td>3.699219</td>\n",
              "      <td>25.0</td>\n",
              "      <td>6.0</td>\n",
              "      <td>20.0</td>\n",
              "      <td>-1.0</td>\n",
              "      <td>1019.700012</td>\n",
              "      <td>0.0</td>\n",
              "      <td>0.0</td>\n",
              "      <td>1</td>\n",
              "      <td>1</td>\n",
              "      <td>1</td>\n",
              "      <td>1</td>\n",
              "    </tr>\n",
              "  </tbody>\n",
              "</table>\n",
              "</div>"
            ],
            "text/plain": [
              "   building_id  meter  meter_reading  site_id  ... month  day  year  hour\n",
              "0            0      0            0.0        0  ...     1    1     1     1\n",
              "1            1      0            0.0        0  ...     1    1     1     1\n",
              "2            2      0            0.0        0  ...     1    1     1     1\n",
              "3            3      0            0.0        0  ...     1    1     1     1\n",
              "4            4      0            0.0        0  ...     1    1     1     1\n",
              "5            5      0            0.0        0  ...     1    1     1     1\n",
              "6            6      0            0.0        0  ...     1    1     1     1\n",
              "7            7      0            0.0        0  ...     1    1     1     1\n",
              "8            8      0            0.0        0  ...     1    1     1     1\n",
              "9            9      0            0.0        0  ...     1    1     1     1\n",
              "\n",
              "[10 rows x 19 columns]"
            ]
          },
          "metadata": {
            "tags": []
          },
          "execution_count": 47
        }
      ]
    },
    {
      "cell_type": "code",
      "metadata": {
        "id": "9dTu0qAmZsdN",
        "colab_type": "code",
        "colab": {}
      },
      "source": [
        "from sklearn.preprocessing import LabelEncoder"
      ],
      "execution_count": 0,
      "outputs": []
    },
    {
      "cell_type": "code",
      "metadata": {
        "id": "1VhGTgyhZf2r",
        "colab_type": "code",
        "colab": {}
      },
      "source": [
        "le = LabelEncoder()\n",
        "train['meter']= le.fit_transform(train['meter']).astype(\"uint8\")\n",
        "test['meter']= le.fit_transform(test['meter']).astype(\"uint8\")\n",
        "\n",
        "train['primary_use']= le.fit_transform(train['primary_use']).astype(\"uint8\")\n",
        "test['primary_use']= le.fit_transform(test['primary_use']).astype(\"uint8\")"
      ],
      "execution_count": 0,
      "outputs": []
    },
    {
      "cell_type": "code",
      "metadata": {
        "id": "AbmYWMaSSuCM",
        "colab_type": "code",
        "colab": {}
      },
      "source": [
        "y = train['meter_reading']"
      ],
      "execution_count": 0,
      "outputs": []
    },
    {
      "cell_type": "code",
      "metadata": {
        "id": "OX15c5LPWddx",
        "colab_type": "code",
        "outputId": "22ffcf4e-6937-4129-c6ec-d83e33d6f46e",
        "colab": {
          "base_uri": "https://localhost:8080/",
          "height": 107
        }
      },
      "source": [
        "train.drop(['meter_reading'],axis=1,inplace=True)\n",
        "\n",
        "\n",
        "train.columns"
      ],
      "execution_count": 51,
      "outputs": [
        {
          "output_type": "execute_result",
          "data": {
            "text/plain": [
              "Index(['building_id', 'meter', 'site_id', 'primary_use', 'square_feet',\n",
              "       'year_built', 'floor_count', 'air_temperature', 'cloud_coverage',\n",
              "       'dew_temperature', 'precip_depth_1_hr', 'sea_level_pressure',\n",
              "       'wind_direction', 'wind_speed', 'month', 'day', 'year', 'hour'],\n",
              "      dtype='object')"
            ]
          },
          "metadata": {
            "tags": []
          },
          "execution_count": 51
        }
      ]
    },
    {
      "cell_type": "code",
      "metadata": {
        "id": "oaHukhjUTVPy",
        "colab_type": "code",
        "colab": {}
      },
      "source": [
        "X = train"
      ],
      "execution_count": 0,
      "outputs": []
    },
    {
      "cell_type": "code",
      "metadata": {
        "id": "nvVw0xK8Z9Ld",
        "colab_type": "code",
        "outputId": "ee614892-ff7e-4418-dcb9-3396a7df1412",
        "colab": {
          "base_uri": "https://localhost:8080/",
          "height": 379
        }
      },
      "source": [
        "train.head(10)"
      ],
      "execution_count": 53,
      "outputs": [
        {
          "output_type": "execute_result",
          "data": {
            "text/html": [
              "<div>\n",
              "<style scoped>\n",
              "    .dataframe tbody tr th:only-of-type {\n",
              "        vertical-align: middle;\n",
              "    }\n",
              "\n",
              "    .dataframe tbody tr th {\n",
              "        vertical-align: top;\n",
              "    }\n",
              "\n",
              "    .dataframe thead th {\n",
              "        text-align: right;\n",
              "    }\n",
              "</style>\n",
              "<table border=\"1\" class=\"dataframe\">\n",
              "  <thead>\n",
              "    <tr style=\"text-align: right;\">\n",
              "      <th></th>\n",
              "      <th>building_id</th>\n",
              "      <th>meter</th>\n",
              "      <th>site_id</th>\n",
              "      <th>primary_use</th>\n",
              "      <th>square_feet</th>\n",
              "      <th>year_built</th>\n",
              "      <th>floor_count</th>\n",
              "      <th>air_temperature</th>\n",
              "      <th>cloud_coverage</th>\n",
              "      <th>dew_temperature</th>\n",
              "      <th>precip_depth_1_hr</th>\n",
              "      <th>sea_level_pressure</th>\n",
              "      <th>wind_direction</th>\n",
              "      <th>wind_speed</th>\n",
              "      <th>month</th>\n",
              "      <th>day</th>\n",
              "      <th>year</th>\n",
              "      <th>hour</th>\n",
              "    </tr>\n",
              "  </thead>\n",
              "  <tbody>\n",
              "    <tr>\n",
              "      <th>0</th>\n",
              "      <td>0</td>\n",
              "      <td>0</td>\n",
              "      <td>0</td>\n",
              "      <td>0</td>\n",
              "      <td>7432</td>\n",
              "      <td>2008.0</td>\n",
              "      <td>3.699219</td>\n",
              "      <td>25.0</td>\n",
              "      <td>6.0</td>\n",
              "      <td>20.0</td>\n",
              "      <td>-1.0</td>\n",
              "      <td>1019.700012</td>\n",
              "      <td>0.0</td>\n",
              "      <td>0.0</td>\n",
              "      <td>1</td>\n",
              "      <td>1</td>\n",
              "      <td>1</td>\n",
              "      <td>1</td>\n",
              "    </tr>\n",
              "    <tr>\n",
              "      <th>1</th>\n",
              "      <td>1</td>\n",
              "      <td>0</td>\n",
              "      <td>0</td>\n",
              "      <td>0</td>\n",
              "      <td>2720</td>\n",
              "      <td>2004.0</td>\n",
              "      <td>3.699219</td>\n",
              "      <td>25.0</td>\n",
              "      <td>6.0</td>\n",
              "      <td>20.0</td>\n",
              "      <td>-1.0</td>\n",
              "      <td>1019.700012</td>\n",
              "      <td>0.0</td>\n",
              "      <td>0.0</td>\n",
              "      <td>1</td>\n",
              "      <td>1</td>\n",
              "      <td>1</td>\n",
              "      <td>1</td>\n",
              "    </tr>\n",
              "    <tr>\n",
              "      <th>2</th>\n",
              "      <td>2</td>\n",
              "      <td>0</td>\n",
              "      <td>0</td>\n",
              "      <td>0</td>\n",
              "      <td>5376</td>\n",
              "      <td>1991.0</td>\n",
              "      <td>3.699219</td>\n",
              "      <td>25.0</td>\n",
              "      <td>6.0</td>\n",
              "      <td>20.0</td>\n",
              "      <td>-1.0</td>\n",
              "      <td>1019.700012</td>\n",
              "      <td>0.0</td>\n",
              "      <td>0.0</td>\n",
              "      <td>1</td>\n",
              "      <td>1</td>\n",
              "      <td>1</td>\n",
              "      <td>1</td>\n",
              "    </tr>\n",
              "    <tr>\n",
              "      <th>3</th>\n",
              "      <td>3</td>\n",
              "      <td>0</td>\n",
              "      <td>0</td>\n",
              "      <td>0</td>\n",
              "      <td>23685</td>\n",
              "      <td>2002.0</td>\n",
              "      <td>3.699219</td>\n",
              "      <td>25.0</td>\n",
              "      <td>6.0</td>\n",
              "      <td>20.0</td>\n",
              "      <td>-1.0</td>\n",
              "      <td>1019.700012</td>\n",
              "      <td>0.0</td>\n",
              "      <td>0.0</td>\n",
              "      <td>1</td>\n",
              "      <td>1</td>\n",
              "      <td>1</td>\n",
              "      <td>1</td>\n",
              "    </tr>\n",
              "    <tr>\n",
              "      <th>4</th>\n",
              "      <td>4</td>\n",
              "      <td>0</td>\n",
              "      <td>0</td>\n",
              "      <td>0</td>\n",
              "      <td>116607</td>\n",
              "      <td>1975.0</td>\n",
              "      <td>3.699219</td>\n",
              "      <td>25.0</td>\n",
              "      <td>6.0</td>\n",
              "      <td>20.0</td>\n",
              "      <td>-1.0</td>\n",
              "      <td>1019.700012</td>\n",
              "      <td>0.0</td>\n",
              "      <td>0.0</td>\n",
              "      <td>1</td>\n",
              "      <td>1</td>\n",
              "      <td>1</td>\n",
              "      <td>1</td>\n",
              "    </tr>\n",
              "    <tr>\n",
              "      <th>5</th>\n",
              "      <td>5</td>\n",
              "      <td>0</td>\n",
              "      <td>0</td>\n",
              "      <td>0</td>\n",
              "      <td>8000</td>\n",
              "      <td>2000.0</td>\n",
              "      <td>3.699219</td>\n",
              "      <td>25.0</td>\n",
              "      <td>6.0</td>\n",
              "      <td>20.0</td>\n",
              "      <td>-1.0</td>\n",
              "      <td>1019.700012</td>\n",
              "      <td>0.0</td>\n",
              "      <td>0.0</td>\n",
              "      <td>1</td>\n",
              "      <td>1</td>\n",
              "      <td>1</td>\n",
              "      <td>1</td>\n",
              "    </tr>\n",
              "    <tr>\n",
              "      <th>6</th>\n",
              "      <td>6</td>\n",
              "      <td>0</td>\n",
              "      <td>0</td>\n",
              "      <td>4</td>\n",
              "      <td>27926</td>\n",
              "      <td>1981.0</td>\n",
              "      <td>3.699219</td>\n",
              "      <td>25.0</td>\n",
              "      <td>6.0</td>\n",
              "      <td>20.0</td>\n",
              "      <td>-1.0</td>\n",
              "      <td>1019.700012</td>\n",
              "      <td>0.0</td>\n",
              "      <td>0.0</td>\n",
              "      <td>1</td>\n",
              "      <td>1</td>\n",
              "      <td>1</td>\n",
              "      <td>1</td>\n",
              "    </tr>\n",
              "    <tr>\n",
              "      <th>7</th>\n",
              "      <td>7</td>\n",
              "      <td>0</td>\n",
              "      <td>0</td>\n",
              "      <td>0</td>\n",
              "      <td>121074</td>\n",
              "      <td>1989.0</td>\n",
              "      <td>3.699219</td>\n",
              "      <td>25.0</td>\n",
              "      <td>6.0</td>\n",
              "      <td>20.0</td>\n",
              "      <td>-1.0</td>\n",
              "      <td>1019.700012</td>\n",
              "      <td>0.0</td>\n",
              "      <td>0.0</td>\n",
              "      <td>1</td>\n",
              "      <td>1</td>\n",
              "      <td>1</td>\n",
              "      <td>1</td>\n",
              "    </tr>\n",
              "    <tr>\n",
              "      <th>8</th>\n",
              "      <td>8</td>\n",
              "      <td>0</td>\n",
              "      <td>0</td>\n",
              "      <td>0</td>\n",
              "      <td>60809</td>\n",
              "      <td>2003.0</td>\n",
              "      <td>3.699219</td>\n",
              "      <td>25.0</td>\n",
              "      <td>6.0</td>\n",
              "      <td>20.0</td>\n",
              "      <td>-1.0</td>\n",
              "      <td>1019.700012</td>\n",
              "      <td>0.0</td>\n",
              "      <td>0.0</td>\n",
              "      <td>1</td>\n",
              "      <td>1</td>\n",
              "      <td>1</td>\n",
              "      <td>1</td>\n",
              "    </tr>\n",
              "    <tr>\n",
              "      <th>9</th>\n",
              "      <td>9</td>\n",
              "      <td>0</td>\n",
              "      <td>0</td>\n",
              "      <td>6</td>\n",
              "      <td>27000</td>\n",
              "      <td>2010.0</td>\n",
              "      <td>3.699219</td>\n",
              "      <td>25.0</td>\n",
              "      <td>6.0</td>\n",
              "      <td>20.0</td>\n",
              "      <td>-1.0</td>\n",
              "      <td>1019.700012</td>\n",
              "      <td>0.0</td>\n",
              "      <td>0.0</td>\n",
              "      <td>1</td>\n",
              "      <td>1</td>\n",
              "      <td>1</td>\n",
              "      <td>1</td>\n",
              "    </tr>\n",
              "  </tbody>\n",
              "</table>\n",
              "</div>"
            ],
            "text/plain": [
              "   building_id  meter  site_id  primary_use  ...  month  day  year  hour\n",
              "0            0      0        0            0  ...      1    1     1     1\n",
              "1            1      0        0            0  ...      1    1     1     1\n",
              "2            2      0        0            0  ...      1    1     1     1\n",
              "3            3      0        0            0  ...      1    1     1     1\n",
              "4            4      0        0            0  ...      1    1     1     1\n",
              "5            5      0        0            0  ...      1    1     1     1\n",
              "6            6      0        0            4  ...      1    1     1     1\n",
              "7            7      0        0            0  ...      1    1     1     1\n",
              "8            8      0        0            0  ...      1    1     1     1\n",
              "9            9      0        0            6  ...      1    1     1     1\n",
              "\n",
              "[10 rows x 18 columns]"
            ]
          },
          "metadata": {
            "tags": []
          },
          "execution_count": 53
        }
      ]
    },
    {
      "cell_type": "markdown",
      "metadata": {
        "id": "hjF_W1gaR0hA",
        "colab_type": "text"
      },
      "source": [
        "Creating and Training  models"
      ]
    },
    {
      "cell_type": "code",
      "metadata": {
        "id": "8J22y3ISRHEa",
        "colab_type": "code",
        "outputId": "be3bfac0-29bf-4d63-bd89-0238b5adaff2",
        "colab": {
          "base_uri": "https://localhost:8080/",
          "height": 81
        }
      },
      "source": [
        "from sklearn.model_selection import train_test_split\n",
        "from sklearn.model_selection import RandomizedSearchCV, GridSearchCV\n",
        "from tensorflow.keras.wrappers.scikit_learn import KerasRegressor\n",
        "from tensorflow.keras.layers import Dense, Dropout, BatchNormalization\n",
        "from tensorflow.keras.optimizers import Adam, RMSprop\n",
        "from tensorflow.keras import Sequential\n",
        "from tensorflow.keras import backend as K"
      ],
      "execution_count": 54,
      "outputs": [
        {
          "output_type": "display_data",
          "data": {
            "text/html": [
              "<p style=\"color: red;\">\n",
              "The default version of TensorFlow in Colab will soon switch to TensorFlow 2.x.<br>\n",
              "We recommend you <a href=\"https://www.tensorflow.org/guide/migrate\" target=\"_blank\">upgrade</a> now \n",
              "or ensure your notebook will continue to use TensorFlow 1.x via the <code>%tensorflow_version 1.x</code> magic:\n",
              "<a href=\"https://colab.research.google.com/notebooks/tensorflow_version.ipynb\" target=\"_blank\">more info</a>.</p>\n"
            ],
            "text/plain": [
              "<IPython.core.display.HTML object>"
            ]
          },
          "metadata": {
            "tags": []
          }
        }
      ]
    },
    {
      "cell_type": "code",
      "metadata": {
        "id": "RkdoX6aDR6TW",
        "colab_type": "code",
        "outputId": "a36c3725-c799-4419-d5f4-6c2d8c49a5c7",
        "colab": {
          "base_uri": "https://localhost:8080/",
          "height": 35
        }
      },
      "source": [
        "X_train, X_test, y_train, y_test = train_test_split(X, y, test_size=0.25, random_state=42)\n",
        "\n",
        "print(X_test.shape, X_train.shape, y_test.shape, y_train.shape)"
      ],
      "execution_count": 55,
      "outputs": [
        {
          "output_type": "stream",
          "text": [
            "(5054025, 18) (15162075, 18) (5054025,) (15162075,)\n"
          ],
          "name": "stdout"
        }
      ]
    },
    {
      "cell_type": "markdown",
      "metadata": {
        "id": "C-L0YAkYn28K",
        "colab_type": "text"
      },
      "source": [
        "USING LSTM MODEL"
      ]
    },
    {
      "cell_type": "code",
      "metadata": {
        "id": "0NLLoYtAD-1R",
        "colab_type": "code",
        "colab": {}
      },
      "source": [
        "from tensorflow.keras.layers import LSTM\n",
        "from tensorflow.keras.layers import Activation"
      ],
      "execution_count": 0,
      "outputs": []
    },
    {
      "cell_type": "code",
      "metadata": {
        "id": "6gQUwoFV-WKH",
        "colab_type": "code",
        "outputId": "605053a1-9ee2-4ebc-ca9e-76ebadf663b4",
        "colab": {
          "base_uri": "https://localhost:8080/",
          "height": 35
        }
      },
      "source": [
        "X_train.shape"
      ],
      "execution_count": 57,
      "outputs": [
        {
          "output_type": "execute_result",
          "data": {
            "text/plain": [
              "(15162075, 18)"
            ]
          },
          "metadata": {
            "tags": []
          },
          "execution_count": 57
        }
      ]
    },
    {
      "cell_type": "code",
      "metadata": {
        "id": "Kusln8KnEYXB",
        "colab_type": "code",
        "colab": {}
      },
      "source": [
        "#X_train = X_train.to_numpy()\n",
        "#X_train = X_train.reshape(15162075,1,13)\n"
      ],
      "execution_count": 0,
      "outputs": []
    },
    {
      "cell_type": "code",
      "metadata": {
        "id": "Outriy3kZjFN",
        "colab_type": "code",
        "colab": {}
      },
      "source": [
        "def root_mean_squared_error(y_true, y_pred):\n",
        "    return K.sqrt(K.mean(K.square(y_pred - y_true), axis=0))"
      ],
      "execution_count": 0,
      "outputs": []
    },
    {
      "cell_type": "code",
      "metadata": {
        "id": "8kwfp5Jwylum",
        "colab_type": "code",
        "outputId": "9382cf32-70af-487c-c1db-c8cbf945568f",
        "colab": {
          "base_uri": "https://localhost:8080/",
          "height": 55
        }
      },
      "source": [
        "\n",
        "\n",
        "  \n",
        "'''\n",
        "model = Sequential()\n",
        "model.add(LSTM(256,input_shape=(1, 13),return_sequences=True))\n",
        "model.add(BatchNormalization())\n",
        "model.add(Dropout(0.05), )\n",
        "model.add(LSTM(128,activation='relu',return_sequences=True))\n",
        "model.add(BatchNormalization())\n",
        "model.add(Dropout(0.05), )\n",
        "\n",
        "model.add(LSTM(1,activation='relu',return_sequences=False))\n",
        "model.add(BatchNormalization())\n",
        "\n",
        "\n",
        "\n",
        "\n",
        "model.compile(loss='mse',optimizer =opt,metrics=[root_mean_squared_error])\n",
        "\n",
        "\n",
        "model.fit(X_train,y_train,epochs=32,batch_size=8192);\n",
        "'''\n",
        "\n"
      ],
      "execution_count": 59,
      "outputs": [
        {
          "output_type": "execute_result",
          "data": {
            "text/plain": [
              "\"\\nmodel = Sequential()\\nmodel.add(LSTM(256,input_shape=(1, 13),return_sequences=True))\\nmodel.add(BatchNormalization())\\nmodel.add(Dropout(0.05), )\\nmodel.add(LSTM(128,activation='relu',return_sequences=True))\\nmodel.add(BatchNormalization())\\nmodel.add(Dropout(0.05), )\\n\\nmodel.add(LSTM(1,activation='relu',return_sequences=False))\\nmodel.add(BatchNormalization())\\n\\n\\n\\n\\nmodel.compile(loss='mse',optimizer =opt,metrics=[root_mean_squared_error])\\n\\n\\nmodel.fit(X_train,y_train,epochs=32,batch_size=8192);\\n\""
            ]
          },
          "metadata": {
            "tags": []
          },
          "execution_count": 59
        }
      ]
    },
    {
      "cell_type": "markdown",
      "metadata": {
        "id": "c5NV0PlAwa14",
        "colab_type": "text"
      },
      "source": [
        "When i used the LSTM model ,it gives me a loss equal to 4.46 so i choose to try a simple model with 4 layers "
      ]
    },
    {
      "cell_type": "markdown",
      "metadata": {
        "id": "jivjtFS5pDjn",
        "colab_type": "text"
      },
      "source": [
        "USING A SIMPLE NN MODEL"
      ]
    },
    {
      "cell_type": "code",
      "metadata": {
        "id": "KfJ63IqZpA-w",
        "colab_type": "code",
        "outputId": "a7e2732d-9b53-4c63-ef03-f41bd219130e",
        "colab": {
          "base_uri": "https://localhost:8080/",
          "height": 1000
        }
      },
      "source": [
        "model = Sequential()\n",
        "#layer with 256 neurons\n",
        "model.add(Dense(256, activation='relu', input_shape=(18,))) \n",
        "model.add(BatchNormalization())\n",
        "model.add(Dropout(0.1), )\n",
        "#layer with 128 neurons\n",
        "model.add(Dense(128, activation='relu'))\n",
        "#layer with 64 neurons\n",
        "model.add(Dense(64, activation='relu'))\n",
        "model.add(BatchNormalization())\n",
        "model.add(Dropout(0.1), )\n",
        "model.add(Dense(1, activation='relu'))\n",
        "opt =Adam(0.001)\n",
        "model.compile(loss='mse', optimizer=opt, metrics=[root_mean_squared_error])\n",
        "model.fit(X_train,y_train,epochs=30,batch_size=2048, validation_data=(X_test, y_test));\n",
        "\n"
      ],
      "execution_count": 60,
      "outputs": [
        {
          "output_type": "stream",
          "text": [
            "WARNING:tensorflow:From /usr/local/lib/python3.6/dist-packages/tensorflow_core/python/ops/resource_variable_ops.py:1630: calling BaseResourceVariable.__init__ (from tensorflow.python.ops.resource_variable_ops) with constraint is deprecated and will be removed in a future version.\n",
            "Instructions for updating:\n",
            "If using Keras pass *_constraint arguments to layers.\n",
            "Train on 15162075 samples, validate on 5054025 samples\n",
            "Epoch 1/30\n",
            "15162075/15162075 [==============================] - 73s 5us/sample - loss: 3.5190 - root_mean_squared_error: 1.8716 - val_loss: 3.6706 - val_root_mean_squared_error: 1.9155\n",
            "Epoch 2/30\n",
            "15162075/15162075 [==============================] - 58s 4us/sample - loss: 3.0158 - root_mean_squared_error: 1.7356 - val_loss: 3.1494 - val_root_mean_squared_error: 1.7742\n",
            "Epoch 3/30\n",
            "15162075/15162075 [==============================] - 58s 4us/sample - loss: 2.5382 - root_mean_squared_error: 1.5918 - val_loss: 2.6283 - val_root_mean_squared_error: 1.6207\n",
            "Epoch 4/30\n",
            "15162075/15162075 [==============================] - 59s 4us/sample - loss: 2.3220 - root_mean_squared_error: 1.5228 - val_loss: 2.2454 - val_root_mean_squared_error: 1.4980\n",
            "Epoch 5/30\n",
            "15162075/15162075 [==============================] - 58s 4us/sample - loss: 2.2135 - root_mean_squared_error: 1.4870 - val_loss: 2.2569 - val_root_mean_squared_error: 1.5017\n",
            "Epoch 6/30\n",
            "15162075/15162075 [==============================] - 58s 4us/sample - loss: 2.1553 - root_mean_squared_error: 1.4673 - val_loss: 2.1447 - val_root_mean_squared_error: 1.4639\n",
            "Epoch 7/30\n",
            "15162075/15162075 [==============================] - 58s 4us/sample - loss: 2.1162 - root_mean_squared_error: 1.4539 - val_loss: 2.1774 - val_root_mean_squared_error: 1.4750\n",
            "Epoch 8/30\n",
            "15162075/15162075 [==============================] - 58s 4us/sample - loss: 2.0780 - root_mean_squared_error: 1.4408 - val_loss: 1.9398 - val_root_mean_squared_error: 1.3922\n",
            "Epoch 9/30\n",
            "15162075/15162075 [==============================] - 58s 4us/sample - loss: 2.0499 - root_mean_squared_error: 1.4310 - val_loss: 2.4650 - val_root_mean_squared_error: 1.5694\n",
            "Epoch 10/30\n",
            "15162075/15162075 [==============================] - 57s 4us/sample - loss: 2.0316 - root_mean_squared_error: 1.4246 - val_loss: 2.2198 - val_root_mean_squared_error: 1.4893\n",
            "Epoch 11/30\n",
            "15162075/15162075 [==============================] - 57s 4us/sample - loss: 2.0077 - root_mean_squared_error: 1.4162 - val_loss: 1.9494 - val_root_mean_squared_error: 1.3957\n",
            "Epoch 12/30\n",
            "15162075/15162075 [==============================] - 58s 4us/sample - loss: 1.9865 - root_mean_squared_error: 1.4087 - val_loss: 1.7848 - val_root_mean_squared_error: 1.3354\n",
            "Epoch 13/30\n",
            "15162075/15162075 [==============================] - 57s 4us/sample - loss: 1.9740 - root_mean_squared_error: 1.4043 - val_loss: 2.1126 - val_root_mean_squared_error: 1.4529\n",
            "Epoch 14/30\n",
            "15162075/15162075 [==============================] - 57s 4us/sample - loss: 1.9597 - root_mean_squared_error: 1.3992 - val_loss: 1.8300 - val_root_mean_squared_error: 1.3522\n",
            "Epoch 15/30\n",
            "15162075/15162075 [==============================] - 57s 4us/sample - loss: 1.9421 - root_mean_squared_error: 1.3929 - val_loss: 1.6861 - val_root_mean_squared_error: 1.2979\n",
            "Epoch 16/30\n",
            "15162075/15162075 [==============================] - 57s 4us/sample - loss: 1.9321 - root_mean_squared_error: 1.3893 - val_loss: 1.6287 - val_root_mean_squared_error: 1.2756\n",
            "Epoch 17/30\n",
            "15162075/15162075 [==============================] - 57s 4us/sample - loss: 1.9173 - root_mean_squared_error: 1.3840 - val_loss: 1.6556 - val_root_mean_squared_error: 1.2861\n",
            "Epoch 18/30\n",
            "15162075/15162075 [==============================] - 57s 4us/sample - loss: 1.9055 - root_mean_squared_error: 1.3797 - val_loss: 1.9020 - val_root_mean_squared_error: 1.3786\n",
            "Epoch 19/30\n",
            "15162075/15162075 [==============================] - 56s 4us/sample - loss: 1.8957 - root_mean_squared_error: 1.3762 - val_loss: 1.6424 - val_root_mean_squared_error: 1.2810\n",
            "Epoch 20/30\n",
            "15162075/15162075 [==============================] - 56s 4us/sample - loss: 1.8839 - root_mean_squared_error: 1.3719 - val_loss: 1.9705 - val_root_mean_squared_error: 1.4031\n",
            "Epoch 21/30\n",
            "15162075/15162075 [==============================] - 56s 4us/sample - loss: 1.8711 - root_mean_squared_error: 1.3672 - val_loss: 1.8937 - val_root_mean_squared_error: 1.3755\n",
            "Epoch 22/30\n",
            "15162075/15162075 [==============================] - 57s 4us/sample - loss: 1.8622 - root_mean_squared_error: 1.3640 - val_loss: 1.6218 - val_root_mean_squared_error: 1.2729\n",
            "Epoch 23/30\n",
            "15162075/15162075 [==============================] - 57s 4us/sample - loss: 1.8547 - root_mean_squared_error: 1.3612 - val_loss: 1.8248 - val_root_mean_squared_error: 1.3502\n",
            "Epoch 24/30\n",
            "15162075/15162075 [==============================] - 57s 4us/sample - loss: 1.8457 - root_mean_squared_error: 1.3579 - val_loss: 1.6832 - val_root_mean_squared_error: 1.2969\n",
            "Epoch 25/30\n",
            "15162075/15162075 [==============================] - 57s 4us/sample - loss: 1.8402 - root_mean_squared_error: 1.3559 - val_loss: 2.2917 - val_root_mean_squared_error: 1.5132\n",
            "Epoch 26/30\n",
            "15162075/15162075 [==============================] - 57s 4us/sample - loss: 1.8321 - root_mean_squared_error: 1.3529 - val_loss: 1.6184 - val_root_mean_squared_error: 1.2716\n",
            "Epoch 27/30\n",
            "15162075/15162075 [==============================] - 57s 4us/sample - loss: 1.8262 - root_mean_squared_error: 1.3507 - val_loss: 1.6628 - val_root_mean_squared_error: 1.2889\n",
            "Epoch 28/30\n",
            "15162075/15162075 [==============================] - 57s 4us/sample - loss: 1.8180 - root_mean_squared_error: 1.3476 - val_loss: 1.7575 - val_root_mean_squared_error: 1.3251\n",
            "Epoch 29/30\n",
            "15162075/15162075 [==============================] - 57s 4us/sample - loss: 1.8137 - root_mean_squared_error: 1.3461 - val_loss: 1.5825 - val_root_mean_squared_error: 1.2573\n",
            "Epoch 30/30\n",
            "15162075/15162075 [==============================] - 59s 4us/sample - loss: 1.8067 - root_mean_squared_error: 1.3435 - val_loss: 1.7336 - val_root_mean_squared_error: 1.3160\n"
          ],
          "name": "stdout"
        }
      ]
    },
    {
      "cell_type": "code",
      "metadata": {
        "id": "OyVms1T5s5sP",
        "colab_type": "code",
        "colab": {
          "base_uri": "https://localhost:8080/",
          "height": 107
        },
        "outputId": "a83879ec-6c68-4dc6-a525-4b9e117c441f"
      },
      "source": [
        "train.columns"
      ],
      "execution_count": 62,
      "outputs": [
        {
          "output_type": "execute_result",
          "data": {
            "text/plain": [
              "Index(['building_id', 'meter', 'site_id', 'primary_use', 'square_feet',\n",
              "       'year_built', 'floor_count', 'air_temperature', 'cloud_coverage',\n",
              "       'dew_temperature', 'precip_depth_1_hr', 'sea_level_pressure',\n",
              "       'wind_direction', 'wind_speed', 'month', 'day', 'year', 'hour'],\n",
              "      dtype='object')"
            ]
          },
          "metadata": {
            "tags": []
          },
          "execution_count": 62
        }
      ]
    },
    {
      "cell_type": "code",
      "metadata": {
        "id": "cRuqaSoes-Gf",
        "colab_type": "code",
        "colab": {
          "base_uri": "https://localhost:8080/",
          "height": 125
        },
        "outputId": "419ca507-2a51-4a05-d334-8f4e28eedb54"
      },
      "source": [
        "test.columns"
      ],
      "execution_count": 63,
      "outputs": [
        {
          "output_type": "execute_result",
          "data": {
            "text/plain": [
              "Index(['row_id', 'building_id', 'meter', 'site_id', 'primary_use',\n",
              "       'square_feet', 'year_built', 'floor_count', 'air_temperature',\n",
              "       'cloud_coverage', 'dew_temperature', 'precip_depth_1_hr',\n",
              "       'sea_level_pressure', 'wind_direction', 'wind_speed', 'month', 'day',\n",
              "       'year', 'hour'],\n",
              "      dtype='object')"
            ]
          },
          "metadata": {
            "tags": []
          },
          "execution_count": 63
        }
      ]
    },
    {
      "cell_type": "code",
      "metadata": {
        "id": "_mGZHO3HsKX1",
        "colab_type": "code",
        "colab": {
          "base_uri": "https://localhost:8080/",
          "height": 35
        },
        "outputId": "a6a2b211-6396-4c9e-d378-42292f6962e2"
      },
      "source": [
        "y_pred = model.predict(test, batch_size=1024, verbose=1)"
      ],
      "execution_count": 65,
      "outputs": [
        {
          "output_type": "stream",
          "text": [
            "41697600/41697600 [==============================] - 64s 2us/sample\n"
          ],
          "name": "stdout"
        }
      ]
    },
    {
      "cell_type": "code",
      "metadata": {
        "id": "FApjxt7n6N6X",
        "colab_type": "code",
        "colab": {}
      },
      "source": [
        "sample_sub = pd.read_csv(\"/content/sample_submission.csv\")"
      ],
      "execution_count": 0,
      "outputs": []
    },
    {
      "cell_type": "code",
      "metadata": {
        "id": "QuKzGQ8h6QGI",
        "colab_type": "code",
        "colab": {}
      },
      "source": [
        "export_csv = sample_sub.to_csv('./my-submission.csv', index=False)"
      ],
      "execution_count": 0,
      "outputs": []
    },
    {
      "cell_type": "code",
      "metadata": {
        "id": "HuMW1Re56Rw9",
        "colab_type": "code",
        "colab": {
          "base_uri": "https://localhost:8080/",
          "height": 91
        },
        "outputId": "b599496f-a63d-40fd-e9ae-c858a521ed1a"
      },
      "source": [
        "!kaggle competitions submit ashrae-energy-prediction -f my-submission.csv -m 'Final submission'"
      ],
      "execution_count": 68,
      "outputs": [
        {
          "output_type": "stream",
          "text": [
            "Warning: Looks like you're using an outdated API Version, please consider updating (server 1.5.6 / client 1.5.4)\n",
            "100% 427M/427M [00:09<00:00, 45.9MB/s]\n",
            "Successfully submitted to ASHRAE - Great Energy Predictor III"
          ],
          "name": "stdout"
        }
      ]
    },
    {
      "cell_type": "code",
      "metadata": {
        "id": "E-RX8PHr7Zrb",
        "colab_type": "code",
        "colab": {}
      },
      "source": [
        ""
      ],
      "execution_count": 0,
      "outputs": []
    }
  ]
}